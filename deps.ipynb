{
 "cells": [
  {
   "cell_type": "code",
   "execution_count": 1,
   "metadata": {
    "collapsed": true
   },
   "outputs": [],
   "source": [
    "import numpy as np\n",
    "import pandas as pd\n",
    "import matplotlib.pyplot as plt\n",
    "import warnings\n",
    "from datetime import datetime, timedelta\n",
    "\n",
    "from setup.univ_setup import *\n",
    "from setup.utils import *\n",
    "from factor_mining.combine_factors import *\n",
    "from factor_mining.factor_preprocessing import *\n",
    "from factor_mining.factors.diff import *\n",
    "from performance_analysis.pa_core import *\n",
    "\n",
    "from backtest.BackTestSinglePeriod import *\n",
    "from backtest.BackTest import *\n",
    "from backtest.percentile_portfolio import *\n",
    "\n",
    "warnings.filterwarnings(\"ignore\")"
   ]
  },
  {
   "cell_type": "code",
   "execution_count": 3,
   "metadata": {
    "collapsed": false
   },
   "outputs": [
    {
     "name": "stdout",
     "output_type": "stream",
     "text": [
      "Setup R3000 universe\n",
      "use existing binary file\n"
     ]
    }
   ],
   "source": [
    "### universe setup ###\n",
    "datadir = '/home/derek-qi/Documents/R3000_Data/data/r3000/'\n",
    "univ = univ_setup(datadir, version=5)"
   ]
  },
  {
   "cell_type": "code",
   "execution_count": 4,
   "metadata": {
    "collapsed": true
   },
   "outputs": [],
   "source": [
    "%%time\n",
    "univ_table = stack(univ)\n",
    "factors = {}\n",
    "factors['d52_eps'] = diff(univ_table, 'eps', 52)"
   ]
  },
  {
   "cell_type": "code",
   "execution_count": 6,
   "metadata": {
    "collapsed": false
   },
   "outputs": [
    {
     "name": "stdout",
     "output_type": "stream",
     "text": [
      "Filt the untradables\n",
      "Scale each factor\n",
      "Winsorize with +/- 3 std\n",
      "Done\n"
     ]
    }
   ],
   "source": [
    "factor_names = list(factors.keys())\n",
    "\n",
    "# concat into factor exposure matrices\n",
    "factor_exp_mat = combine_factors(factors)\n",
    "filt_na(factor_exp_mat)\n",
    "\n",
    "### Filt the illiquid names within universe ###\n",
    "print('Filt the untradables')\n",
    "filt_byval(univ, 'in_r3000', 0)\n",
    "filt_byval(univ, 'price', 10)\n",
    "filt_byval(univ, 'volume', 1500000)\n",
    "filt_byval(univ, 'div_ratio', 10, keep='below')\n",
    "\n",
    "factor_exp_mat = merge(factor_exp_mat, univ, right_cols=['f_log_ret_1'])\n",
    "\n",
    "# Preprocessing factor expsure matrices\n",
    "print('Scale each factor')\n",
    "factor_exp_mat = process_batch(factor_exp_mat, standardize, factor_names=factor_names)\n",
    "print('Winsorize with +/- 3 std')\n",
    "factor_exp_mat = process_batch(factor_exp_mat, winsorize_std, factor_names=factor_names)\n",
    "print('Done')"
   ]
  },
  {
   "cell_type": "code",
   "execution_count": 17,
   "metadata": {
    "collapsed": false
   },
   "outputs": [
    {
     "name": "stdout",
     "output_type": "stream",
     "text": [
      "2010-10-05T00:00:00.000000000 2017-10-03T00:00:00.000000000\n",
      "CAGR :\t 0.0939069874893\n",
      "Volatility :\t 0.190887453638\n",
      "Sharpe :\t 0.470202090803\n",
      "Max_Drawdown :\t 0.374144173053\n",
      "Drawdown_Length :\t 5\n"
     ]
    }
   ],
   "source": [
    "datelst = sorted(univ.keys())\n",
    "print(datelst[0], datelst[-1])\n",
    "start_date = np.datetime64('2012-01-01')\n",
    "end_date = np.datetime64('2016-12-31')\n",
    "\n",
    "spcalc = PercentilePtflSpcalc(signal='d52_eps', sel_range=[90, 100])\n",
    "bt = BackTest(univ, factor_exp_mat, [start_date, end_date], spcalc)\n",
    "ptfl_lst, pnl_lst = bt.calc_pnl()\n",
    "bt.calc_pa()"
   ]
  },
  {
   "cell_type": "code",
   "execution_count": 14,
   "metadata": {
    "collapsed": false
   },
   "outputs": [
    {
     "data": {
      "image/png": "[encoded data removed]",
      "text/plain": [
       "<matplotlib.figure.Figure at 0x7fee42d129e8>"
      ]
     },
     "metadata": {},
     "output_type": "display_data"
    }
   ],
   "source": [
    "plt.plot(np.cumsum(pnl_lst.pnl))\n",
    "plt.show()"
   ]
  },
  {
   "cell_type": "code",
   "execution_count": 15,
   "metadata": {
    "collapsed": false
   },
   "outputs": [
    {
     "name": "stdout",
     "output_type": "stream",
     "text": [
      "d52_eps [0, 5]\n",
      "d52_eps [5, 10]\n",
      "d52_eps [10, 15]\n",
      "d52_eps [15, 20]\n",
      "d52_eps [20, 25]\n",
      "d52_eps [25, 30]\n",
      "d52_eps [30, 35]\n",
      "d52_eps [35, 40]\n",
      "d52_eps [40, 45]\n",
      "d52_eps [45, 50]\n",
      "d52_eps [50, 55]\n",
      "d52_eps [55, 60]\n",
      "d52_eps [60, 65]\n",
      "d52_eps [65, 70]\n",
      "d52_eps [70, 75]\n",
      "d52_eps [75, 80]\n",
      "d52_eps [80, 85]\n",
      "d52_eps [85, 90]\n",
      "d52_eps [90, 95]\n",
      "d52_eps [95, 100]\n",
      "CPU times: user 10min 40s, sys: 164 ms, total: 10min 40s\n",
      "Wall time: 10min 40s\n"
     ]
    }
   ],
   "source": [
    "%%time\n",
    "from itertools import product\n",
    "step = 5\n",
    "ranges = [[i * step, (i + 1) * step] for i in range(100//step)]\n",
    "daterange = [start_date, end_date]\n",
    "config_iter = product(factor_names, ranges)\n",
    "iter_result = {}\n",
    "for f, g in config_iter:\n",
    "    print(f,g)\n",
    "    spcalc = PercentilePtflSpcalc(signal=f, sel_range=g, weighting='equal')\n",
    "    bt = BackTest(univ, factor_exp_mat, daterange, spcalc)\n",
    "    ptfl_lst, pnl_lst = bt.calc_pnl()\n",
    "    k = f + '_' + str(g[0]) + '_' + str(g[1])\n",
    "    iter_result[k] = (np.nanmean(pnl_lst.pnl), np.sqrt(np.nanvar(pnl_lst.pnl)))"
   ]
  },
  {
   "cell_type": "code",
   "execution_count": 16,
   "metadata": {
    "collapsed": false
   },
   "outputs": [
    {
     "data": {
      "image/png": "[encoded data removed]",
      "text/plain": [
       "<matplotlib.figure.Figure at 0x7fee42f97630>"
      ]
     },
     "metadata": {},
     "output_type": "display_data"
    }
   ],
   "source": [
    "for n in factor_names:\n",
    "    c = len(pnl_lst)\n",
    "    x = [5*i for i in range(20)]\n",
    "    y = [iter_result[n+'_'+str(i)+'_'+str(i+5)][0] for i in x]\n",
    "    s = [iter_result[n+'_'+str(i)+'_'+str(i+5)][1] / np.sqrt(c) for i in x]\n",
    "    \n",
    "    # Here comes the plots\n",
    "    bar_width = 2\n",
    "    week = plt.bar(np.array(x), y, width=bar_width, yerr=s, color='b')\n",
    "\n",
    "    plt.xlabel('Percentile')\n",
    "    plt.ylabel('Average period log returns')\n",
    "    plt.title(n)\n",
    "    plt.xticks(np.array(x) + bar_width, x)\n",
    "    plt.legend()\n",
    "\n",
    "    plt.tight_layout()\n",
    "    plt.show()"
   ]
  },
  {
   "cell_type": "code",
   "execution_count": null,
   "metadata": {
    "collapsed": true
   },
   "outputs": [],
   "source": []
  }
 ],
 "metadata": {
  "kernelspec": {
   "display_name": "Python [conda root]",
   "language": "python",
   "name": "conda-root-py"
  },
  "language_info": {
   "codemirror_mode": {
    "name": "ipython",
    "version": 3
   },
   "file_extension": ".py",
   "mimetype": "text/x-python",
   "name": "python",
   "nbconvert_exporter": "python",
   "pygments_lexer": "ipython3",
   "version": "3.5.2"
  }
 },
 "nbformat": 4,
 "nbformat_minor": 1
}
