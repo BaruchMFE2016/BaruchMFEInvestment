{
 "cells": [
  {
   "cell_type": "code",
   "execution_count": 1,
   "metadata": {
    "collapsed": true
   },
   "outputs": [],
   "source": [
    "import numpy as np\n",
    "import pandas as pd\n",
    "from datetime import datetime, timedelta"
   ]
  },
  {
   "cell_type": "code",
   "execution_count": 2,
   "metadata": {
    "collapsed": true
   },
   "outputs": [],
   "source": [
    "from setup.univ_setup import *\n",
    "from factor_mining.combine_factors import *\n",
    "from factor_mining.factor_model_regression import *"
   ]
  },
  {
   "cell_type": "code",
   "execution_count": 3,
   "metadata": {
    "collapsed": true
   },
   "outputs": [],
   "source": [
    "from factor_model.stock_ret_est import GenReturn \n",
    "from GenPosition import *\n",
    "\n",
    "from factor_mining.factors.momentum import *\n",
    "\n",
    "from factor_mining.Mark0 import *"
   ]
  },
  {
   "cell_type": "code",
   "execution_count": 5,
   "metadata": {
    "collapsed": false
   },
   "outputs": [
    {
     "name": "stdout",
     "output_type": "stream",
     "text": [
      "0\n",
      "50\n",
      "100\n",
      "150\n",
      "200\n",
      "250\n",
      "300\n"
     ]
    }
   ],
   "source": [
    "big_table_dir = '/home/derek-qi/Documents/R3000_Data/data/r3000/big_table_full.csv'\n",
    "univ = univ_setup(big_table_dir)\n",
    "\n",
    "### model configuration ###\n",
    "# define and calculate all factors\n",
    "factors = alpha_four_factors(univ)\n",
    "# concat into factor exposure matrices\n",
    "factor_exp_mat = combine_factors(factors)\n",
    "\n",
    "# const setup\n",
    "factor_names = [k for k in factors.keys()]\n",
    "N_f = len(factor_names)\n",
    "datelst = sorted(factor_exp_mat.keys())\n",
    "N_T = len(datelst)\n",
    "\n",
    "# Calc stock returns\n",
    "ret_series = momentum(univ, 0, 1)"
   ]
  },
  {
   "cell_type": "code",
   "execution_count": 6,
   "metadata": {
    "collapsed": true
   },
   "outputs": [],
   "source": [
    "# LR = LinearRegression()\n",
    "\n",
    "\n",
    "# def factor_model_fit_single_period(fac_exp, ret, fitter=LR):\n",
    "\n",
    "#     N_1 = ret.shape[0]\n",
    "#     N_2, N_f = fac_exp.shape\n",
    "#     if N_1 != N_2:\n",
    "#         raise ValueError()\n",
    "\n",
    "#     merged = pd.merge(fac_exp, ret, how='inner', on='ticker', suffixes=('_x', '_r'))\n",
    "#     merged = merged.replace([np.inf, -np.inf], np.nan)\n",
    "#     merged = merged.dropna()\n",
    "#     # FACTOR NAMES ARE HARDCODED FOR NOW!\n",
    "#     X = np.array(merged[['vol10', 'momentum_x', 'market_cap', 'beta']])\n",
    "#     r = np.array(merged['momentum_r'])\n",
    "#     if np.any(np.isinf(X)):\n",
    "#         print('X')\n",
    "#     if np.any(np.isinf(r)):\n",
    "#         print(merged.ix[np.isinf(r),:])\n",
    "    \n",
    "#     fitter.fit(X, r)\n",
    "#     r_pred = fitter.predict(X)\n",
    "#     mse = mean_squared_error(r, r_pred)\n",
    "#     coef = fitter.coef_\n",
    "\n",
    "#     return coef, mse\n",
    "\n",
    "\n",
    "\n",
    "# def factor_model_fit(factor_exp, ret, dstart, dend, fitter=LR):\n",
    "#     datelst = sorted(factor_exp.keys())\n",
    "#     N_T = len(datelst)\n",
    "#     factor_names = factor_exp[datelst[0]].columns.tolist()[2:]\n",
    "#     N_f = len(factor_names)\n",
    "\n",
    "\n",
    "#     t_in, factor_return_lst, mse_lst = [], [], []\n",
    "\n",
    "#     for ti in range(N_T):\n",
    "#         t = datelst[ti]\n",
    "#         if t < dstart or t > dend:\n",
    "#             continue\n",
    "\n",
    "#         fac_exp_t = factor_exp[t]\n",
    "#         ret_t = ret[t]\n",
    "#         fr, mse = factor_model_fit_single_period(fac_exp_t, ret_t, fitter)\n",
    "#         factor_return_lst.append(fr)\n",
    "#         mse_lst.append(mse)\n",
    "#         t_in.append(t.strftime('%Y/%m/%d'))\n",
    "\n",
    "#     factor_return_lst = list(np.array(factor_return_lst).reshape([len(t_in), N_f]))\n",
    "#     factor_return_df = pd.concat([pd.DataFrame(t_in), pd.DataFrame(factor_return_lst)], axis=1)\n",
    "#     factor_return_df.columns = ['date'] + factor_names\n",
    "#     factor_return_mse = pd.concat([pd.DataFrame(t_in), pd.DataFrame(mse_lst)], axis=1)\n",
    "#     factor_return_mse.columns = ['date', 'mse']\n",
    "\n",
    "#     return factor_return_df, factor_return_mse"
   ]
  },
  {
   "cell_type": "code",
   "execution_count": 7,
   "metadata": {
    "collapsed": false
   },
   "outputs": [
    {
     "name": "stdout",
     "output_type": "stream",
     "text": [
      "2015-02-13 00:00:00\n"
     ]
    }
   ],
   "source": [
    "lookback = timedelta(weeks=104)\n",
    "dend = datetime(2017, 2, 10)\n",
    "dstart = dend - lookback\n",
    "print(dstart)\n",
    "# fit the factor return and mse\n",
    "fr, fr_mse = factor_model_fit(factor_exp_mat, ret_series, dstart, dend)\n"
   ]
  },
  {
   "cell_type": "code",
   "execution_count": 8,
   "metadata": {
    "collapsed": true
   },
   "outputs": [],
   "source": [
    "fx = factor_exp_mat[dend]\n",
    "fx = fx.dropna()"
   ]
  },
  {
   "cell_type": "code",
   "execution_count": 27,
   "metadata": {
    "collapsed": true
   },
   "outputs": [],
   "source": [
    "def filt_byval_single_period(univ_sp, varname, thrd, keep='above'):\n",
    "\t'''\n",
    "\tfilter out any element under varname that has value thrd or below for a single period\n",
    "\tsnapshot of the universe\n",
    "\t'''\n",
    "\tuniv_sp = univ_sp.copy()\n",
    "\tidx_in = univ_sp[varname] > thrd\n",
    "\tif keep == 'below':\n",
    "\t\tidx_in = 1 - ind_in\n",
    "\tuniv_sp = univ_sp.ix[idx_in,:]\n",
    "\treturn univ_sp"
   ]
  },
  {
   "cell_type": "code",
   "execution_count": 32,
   "metadata": {
    "collapsed": false
   },
   "outputs": [],
   "source": [
    "univ_fin = univ[datetime(2017,2,10)]\n",
    "univ_fin = univ_fin.dropna()\n",
    "univ_fin = filt_byval_single_period(univ_fin, 'price', 10)\n",
    "# print(univ_fin.head(), univ_fin.shape)\n",
    "univ_fin = filt_byval_single_period(univ_fin, 'volume', 1500000)\n",
    "# print(univ_fin.head(), univ_fin.shape)"
   ]
  },
  {
   "cell_type": "code",
   "execution_count": 37,
   "metadata": {
    "collapsed": false
   },
   "outputs": [],
   "source": [
    "fx = pd.merge(fx, univ_fin[['ticker']], how='inner', on='ticker')"
   ]
  },
  {
   "cell_type": "code",
   "execution_count": 8,
   "metadata": {
    "collapsed": false
   },
   "outputs": [],
   "source": [
    "# from factor_model.factor_return_cov import get_cov\n",
    "\n",
    "\n",
    "# def GetExpectedReturn(uf, F, D, X):\n",
    "#     \"\"\"Calculate expected return and covariance matrix\n",
    "\n",
    "#     :uf: expected factor return\n",
    "#     :F: expected factor return covariance matrix\n",
    "#     :D: A diagonal matrix of variance of error term in APT model\n",
    "#     :X: factor exposure\n",
    "#     :returns: (expected return, expected return variance)\n",
    "\n",
    "#     \"\"\"\n",
    "#     expected_return = np.dot(X, uf)\n",
    "#     expected_return_cov = np.dot(np.dot(X, F), X.T) + D\n",
    "#     return expected_return, expected_return_cov\n",
    "\n",
    "\n",
    "# def GenReturn(factor_returns, factor_exposure):\n",
    "\n",
    "#     factor_returns = factor_returns.ix[:,1:] # exclude date column\n",
    "#     stock_list = factor_exposure['ticker'].tolist()\n",
    "#     factor_exposure = factor_exposure.ix[:,2:] # exclude date and ticker\n",
    "    \n",
    "#     expected_factor_return = factor_returns.mean()\n",
    "#     expected_factor_cov_naive = factor_returns.cov()\n",
    "\n",
    "#     # Exclude the first column (date)\n",
    "#     var, corr, expected_factor_cov = get_cov(factor_returns.iloc[:,1:])\n",
    "#     # print(\"EWMA covariance matrix\")\n",
    "#     # print(expected_factor_cov)\n",
    "#     # print(\"Naive covariance matrix\")\n",
    "#     # print(expected_factor_cov_naive)\n",
    "\n",
    "#     # TODO: the varaince of error is hard coded here\n",
    "#     expected_return, expected_return_cov = GetExpectedReturn(\n",
    "#                                             expected_factor_return, \n",
    "#                                             expected_factor_cov,\n",
    "#                                             np.identity(factor_exposure.shape[0]) * 0.00700037700382,  # 0.0166834997298, \n",
    "#                                             factor_exposure)\n",
    "\n",
    "#     return expected_return, expected_return_cov, stock_list"
   ]
  },
  {
   "cell_type": "code",
   "execution_count": 39,
   "metadata": {
    "collapsed": false
   },
   "outputs": [
    {
     "name": "stdout",
     "output_type": "stream",
     "text": [
      "133.33954858779907\n"
     ]
    }
   ],
   "source": [
    "# np.any(np.isinf(np.array(fx.ix[:,2:])))\n",
    "from time import time\n",
    "start = time()\n",
    "stock_list, w_opt = GenPosition(fr, fx)\n",
    "end = time()\n",
    "print(end - start)"
   ]
  },
  {
   "cell_type": "code",
   "execution_count": 45,
   "metadata": {
    "collapsed": false
   },
   "outputs": [],
   "source": [
    "w_opt = PositionFilter(w_opt)\n",
    "ptfl_full = pd.DataFrame({\"ticker\": stock_list, \"weight\": list(w_opt.T[0])})"
   ]
  },
  {
   "cell_type": "code",
   "execution_count": 47,
   "metadata": {
    "collapsed": false
   },
   "outputs": [],
   "source": [
    "ptfl_full = pd.merge(ptfl_full, univ_fin[['ticker', 'log_ret']], how='inner', on='ticker')"
   ]
  },
  {
   "cell_type": "code",
   "execution_count": 49,
   "metadata": {
    "collapsed": false
   },
   "outputs": [
    {
     "data": {
      "text/plain": [
       "2.5775322362919182"
      ]
     },
     "execution_count": 49,
     "metadata": {},
     "output_type": "execute_result"
    }
   ],
   "source": [
    "np.dot(ptfl_full.weight, ptfl_full.log_ret)"
   ]
  },
  {
   "cell_type": "code",
   "execution_count": 42,
   "metadata": {
    "collapsed": false
   },
   "outputs": [
    {
     "name": "stdout",
     "output_type": "stream",
     "text": [
      "  Ticker  Weight                           Name Prev Close Avg Daily Volume  \\\n",
      "0   ACAT     0.2                Arctic Cat Inc.      18.50           418397   \n",
      "1   AQMS     0.2              Aqua Metals, Inc.      19.44           354556   \n",
      "2   CRCM     0.2                 Care.com, Inc.      12.65           230295   \n",
      "3    CRK     0.2       Comstock Resources, Inc.       8.85           535200   \n",
      "4   ZYNE     0.2  Zynerba Pharmaceuticals, Inc.      19.96           465884   \n",
      "\n",
      "  Market Cap PE ratio  \n",
      "0       None     None  \n",
      "1    377.85M     None  \n",
      "2    364.73M   121.46  \n",
      "3    140.25M     None  \n",
      "4    265.60M     None  \n"
     ]
    }
   ],
   "source": [
    "outputdir = './output/'\n",
    "now = datetime.now()\n",
    "nowstr = now.strftime('%Y%m%d_%H:%M:%S')\n",
    "GenPortfolioReport(ptfl_full, report_file=outputdir + 'portfolio_report_long_only'+nowstr+'.csv', pt=True)\n",
    "ptfl_full.to_csv(outputdir + 'portfolio_long_only.csv', index=False)"
   ]
  }
 ],
 "metadata": {
  "anaconda-cloud": {},
  "kernelspec": {
   "display_name": "Python [conda root]",
   "language": "python",
   "name": "conda-root-py"
  },
  "language_info": {
   "codemirror_mode": {
    "name": "ipython",
    "version": 3
   },
   "file_extension": ".py",
   "mimetype": "text/x-python",
   "name": "python",
   "nbconvert_exporter": "python",
   "pygments_lexer": "ipython3",
   "version": "3.5.2"
  }
 },
 "nbformat": 4,
 "nbformat_minor": 1
}
