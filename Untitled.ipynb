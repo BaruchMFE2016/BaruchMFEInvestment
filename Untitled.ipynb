{
 "cells": [
  {
   "cell_type": "code",
   "execution_count": 1,
   "metadata": {
    "collapsed": false
   },
   "outputs": [],
   "source": [
    "import numpy as np\n",
    "import pandas as pd\n",
    "from datetime import datetime\n",
    "from time import time\n",
    "import pickle\n",
    "import os\n",
    "from pdb import set_trace"
   ]
  },
  {
   "cell_type": "code",
   "execution_count": 4,
   "metadata": {
    "collapsed": true
   },
   "outputs": [],
   "source": [
    "def univ_setup_from_table(big_table_dir, fund_table_dir=None):\n",
    "    '''\n",
    "    Read the big_table format cleaned data and set universe base on that\n",
    "    return type: dictionary, keys are dates in datetime.datetime format\n",
    "    values are corresponding security information\n",
    "    '''\n",
    "    big_table = pd.read_csv(big_table_dir)\n",
    "    big_table['date'] = pd.to_datetime(big_table['date'])\n",
    "    if fund_table_dir:\n",
    "        fund_table = pd.read_csv(fund_table_dir)\n",
    "        fund_table['date'] = pd.to_datetime(fund_table['date'])\n",
    "        fund_table['annc_date'] = pd.to_datetime(fund_table['annc_date'])\n",
    "    \n",
    "    try:\n",
    "        big_table.drop('Unnamed: 0', axis=1, inplace=True)\n",
    "    except:\n",
    "        pass\n",
    "\n",
    "    if fund_table_dir:\n",
    "        ix = np.isnat(fund_table.annc_date.values)\n",
    "        fund_table.loc[ix, 'annc_date'] = fund_table.loc[ix, 'date'] # fillna of annc_date\n",
    "        fund_table.drop('date', axis=1, inplace=True)\n",
    "        fund_table.fillna(0, inplace=True)\n",
    "        fund_table = fund_table.sort_values('annc_date')\n",
    "        big_table = pd.merge_asof(big_table, fund_table, left_on='date', right_on='annc_date', by='ticker', tolerance=pd.Timedelta('182d'))\n",
    "\n",
    "    set_trace()\n",
    "    datecol = big_table.date.unique()\n",
    "\n",
    "    N_T = datecol.shape[0]\n",
    "    subtable = [0] * N_T\n",
    "\n",
    "    for ti in range(N_T):\n",
    "        t = datecol[ti]\n",
    "        subtable[ti] = big_table.loc[big_table.date == t,:]\n",
    "\n",
    "    return dict(zip(datecol, subtable))\n",
    "\n",
    "def univ_setup(datadir, version=4, wFund=True):\n",
    "    print('Setup R3000 universe')\n",
    "    \n",
    "    datadir = '/home/derek-qi/Documents/R3000_Data/data/r3000/'\n",
    "    if os.path.exists(datadir + 'univ_v%d.pkl' % version):\n",
    "        print('use existing binary file')\n",
    "        with open(datadir + 'univ_v%d.pkl' % version, 'rb') as univ_fh:\n",
    "            univ = pickle.load(univ_fh)\n",
    "    \n",
    "    else:\n",
    "        print('construct from csv')\n",
    "        big_table_dir = datadir + 'big_table_full_v%d.csv' % version\n",
    "        if wFund:\n",
    "            fund_table_dir = datadir + 'fund_data_v%d.csv' % version\n",
    "        else:\n",
    "            fund_table_dir = None\n",
    "        univ = univ_setup_from_table(big_table_dir, fund_table_dir)\n",
    "        with open(datadir + 'univ_v%d.pkl' % version,'wb') as fh:\n",
    "            pickle.dump(univ, fh)\n",
    "    \n",
    "    return univ"
   ]
  },
  {
   "cell_type": "code",
   "execution_count": 5,
   "metadata": {
    "collapsed": false
   },
   "outputs": [
    {
     "name": "stdout",
     "output_type": "stream",
     "text": [
      "Setup R3000 universe\n",
      "construct from csv\n",
      "> <ipython-input-4-5059c5fdc630>(28)univ_setup_from_table()\n",
      "-> datecol = big_table.date.unique()\n",
      "(Pdb) c\n"
     ]
    }
   ],
   "source": [
    "datadir = '/home/derek-qi/Documents/R3000_Data/data/r3000/'\n",
    "univ = univ_setup(datadir, version=5, wFund=True)"
   ]
  },
  {
   "cell_type": "code",
   "execution_count": 6,
   "metadata": {
    "collapsed": true
   },
   "outputs": [],
   "source": [
    "from setup.utils import *"
   ]
  },
  {
   "cell_type": "code",
   "execution_count": 7,
   "metadata": {
    "collapsed": true
   },
   "outputs": [],
   "source": [
    "df = get_val(univ, 100)"
   ]
  },
  {
   "cell_type": "code",
   "execution_count": 9,
   "metadata": {
    "collapsed": false
   },
   "outputs": [],
   "source": [
    "df.dropna(inplace=True)"
   ]
  },
  {
   "cell_type": "code",
   "execution_count": 10,
   "metadata": {
    "collapsed": false
   },
   "outputs": [
    {
     "data": {
      "text/plain": [
       "(977, 22)"
      ]
     },
     "execution_count": 10,
     "metadata": {},
     "output_type": "execute_result"
    }
   ],
   "source": [
    "df.shape"
   ]
  },
  {
   "cell_type": "code",
   "execution_count": 11,
   "metadata": {
    "collapsed": false
   },
   "outputs": [
    {
     "data": {
      "text/html": [
       "<div>\n",
       "<style>\n",
       "    .dataframe thead tr:only-child th {\n",
       "        text-align: right;\n",
       "    }\n",
       "\n",
       "    .dataframe thead th {\n",
       "        text-align: left;\n",
       "    }\n",
       "\n",
       "    .dataframe tbody tr th {\n",
       "        vertical-align: top;\n",
       "    }\n",
       "</style>\n",
       "<table border=\"1\" class=\"dataframe\">\n",
       "  <thead>\n",
       "    <tr style=\"text-align: right;\">\n",
       "      <th></th>\n",
       "      <th>date</th>\n",
       "      <th>ticker</th>\n",
       "      <th>price</th>\n",
       "      <th>vol10</th>\n",
       "      <th>vol60</th>\n",
       "      <th>vol90</th>\n",
       "      <th>vol360</th>\n",
       "      <th>market_cap</th>\n",
       "      <th>beta</th>\n",
       "      <th>volume</th>\n",
       "      <th>...</th>\n",
       "      <th>gross_profit</th>\n",
       "      <th>f_log_ret_1</th>\n",
       "      <th>f_log_ret_4</th>\n",
       "      <th>in_r3000</th>\n",
       "      <th>gross_profit_ttm</th>\n",
       "      <th>ebitda_ttm</th>\n",
       "      <th>eps_ttm</th>\n",
       "      <th>annc_date</th>\n",
       "      <th>total_debt_to_total_capital</th>\n",
       "      <th>net_debt_to_ebitda</th>\n",
       "    </tr>\n",
       "  </thead>\n",
       "  <tbody>\n",
       "    <tr>\n",
       "      <th>518430</th>\n",
       "      <td>2012-09-04</td>\n",
       "      <td>0948669D UN Equity</td>\n",
       "      <td>13.9018</td>\n",
       "      <td>31.557</td>\n",
       "      <td>28.976</td>\n",
       "      <td>15.059</td>\n",
       "      <td>40.191</td>\n",
       "      <td>486.5558</td>\n",
       "      <td>1.0259</td>\n",
       "      <td>394554.0</td>\n",
       "      <td>...</td>\n",
       "      <td>217.104</td>\n",
       "      <td>0.079400</td>\n",
       "      <td>0.158330</td>\n",
       "      <td>1</td>\n",
       "      <td>936.9740</td>\n",
       "      <td>149.347</td>\n",
       "      <td>2.0218</td>\n",
       "      <td>2012-06-28</td>\n",
       "      <td>24.8925</td>\n",
       "      <td>1.1048</td>\n",
       "    </tr>\n",
       "    <tr>\n",
       "      <th>518433</th>\n",
       "      <td>2012-09-04</td>\n",
       "      <td>0965087D UN Equity</td>\n",
       "      <td>18.6027</td>\n",
       "      <td>23.693</td>\n",
       "      <td>28.882</td>\n",
       "      <td>22.988</td>\n",
       "      <td>36.324</td>\n",
       "      <td>389.5373</td>\n",
       "      <td>0.8366</td>\n",
       "      <td>60539.0</td>\n",
       "      <td>...</td>\n",
       "      <td>48.003</td>\n",
       "      <td>-0.006369</td>\n",
       "      <td>-0.016531</td>\n",
       "      <td>1</td>\n",
       "      <td>183.7860</td>\n",
       "      <td>160.002</td>\n",
       "      <td>2.2628</td>\n",
       "      <td>2012-08-06</td>\n",
       "      <td>83.8292</td>\n",
       "      <td>7.5614</td>\n",
       "    </tr>\n",
       "    <tr>\n",
       "      <th>518461</th>\n",
       "      <td>2012-09-04</td>\n",
       "      <td>1284849D UN Equity</td>\n",
       "      <td>86.0256</td>\n",
       "      <td>21.727</td>\n",
       "      <td>21.146</td>\n",
       "      <td>12.400</td>\n",
       "      <td>23.432</td>\n",
       "      <td>25997.6147</td>\n",
       "      <td>0.8712</td>\n",
       "      <td>2139722.0</td>\n",
       "      <td>...</td>\n",
       "      <td>1254.800</td>\n",
       "      <td>0.033245</td>\n",
       "      <td>0.071905</td>\n",
       "      <td>1</td>\n",
       "      <td>4773.3001</td>\n",
       "      <td>1800.600</td>\n",
       "      <td>3.5552</td>\n",
       "      <td>2012-08-01</td>\n",
       "      <td>22.1879</td>\n",
       "      <td>-0.6199</td>\n",
       "    </tr>\n",
       "    <tr>\n",
       "      <th>518472</th>\n",
       "      <td>2012-09-04</td>\n",
       "      <td>1377691D UW Equity</td>\n",
       "      <td>13.2626</td>\n",
       "      <td>31.222</td>\n",
       "      <td>32.939</td>\n",
       "      <td>27.625</td>\n",
       "      <td>35.794</td>\n",
       "      <td>125.0381</td>\n",
       "      <td>1.0641</td>\n",
       "      <td>29167.0</td>\n",
       "      <td>...</td>\n",
       "      <td>3.316</td>\n",
       "      <td>0.021712</td>\n",
       "      <td>-0.017295</td>\n",
       "      <td>1</td>\n",
       "      <td>20.7360</td>\n",
       "      <td>6.388</td>\n",
       "      <td>0.5666</td>\n",
       "      <td>2012-08-21</td>\n",
       "      <td>0.0000</td>\n",
       "      <td>-3.8530</td>\n",
       "    </tr>\n",
       "    <tr>\n",
       "      <th>518473</th>\n",
       "      <td>2012-09-04</td>\n",
       "      <td>1384851D UW Equity</td>\n",
       "      <td>32.1308</td>\n",
       "      <td>45.575</td>\n",
       "      <td>57.519</td>\n",
       "      <td>19.290</td>\n",
       "      <td>57.306</td>\n",
       "      <td>745.5873</td>\n",
       "      <td>1.0484</td>\n",
       "      <td>107277.0</td>\n",
       "      <td>...</td>\n",
       "      <td>34.255</td>\n",
       "      <td>0.027601</td>\n",
       "      <td>0.032132</td>\n",
       "      <td>1</td>\n",
       "      <td>136.3840</td>\n",
       "      <td>34.409</td>\n",
       "      <td>0.7800</td>\n",
       "      <td>2012-08-07</td>\n",
       "      <td>0.0000</td>\n",
       "      <td>-2.9752</td>\n",
       "    </tr>\n",
       "  </tbody>\n",
       "</table>\n",
       "<p>5 rows × 22 columns</p>\n",
       "</div>"
      ],
      "text/plain": [
       "             date              ticker    price   vol10   vol60   vol90  \\\n",
       "518430 2012-09-04  0948669D UN Equity  13.9018  31.557  28.976  15.059   \n",
       "518433 2012-09-04  0965087D UN Equity  18.6027  23.693  28.882  22.988   \n",
       "518461 2012-09-04  1284849D UN Equity  86.0256  21.727  21.146  12.400   \n",
       "518472 2012-09-04  1377691D UW Equity  13.2626  31.222  32.939  27.625   \n",
       "518473 2012-09-04  1384851D UW Equity  32.1308  45.575  57.519  19.290   \n",
       "\n",
       "        vol360  market_cap    beta     volume        ...          \\\n",
       "518430  40.191    486.5558  1.0259   394554.0        ...           \n",
       "518433  36.324    389.5373  0.8366    60539.0        ...           \n",
       "518461  23.432  25997.6147  0.8712  2139722.0        ...           \n",
       "518472  35.794    125.0381  1.0641    29167.0        ...           \n",
       "518473  57.306    745.5873  1.0484   107277.0        ...           \n",
       "\n",
       "        gross_profit  f_log_ret_1  f_log_ret_4  in_r3000  gross_profit_ttm  \\\n",
       "518430       217.104     0.079400     0.158330         1          936.9740   \n",
       "518433        48.003    -0.006369    -0.016531         1          183.7860   \n",
       "518461      1254.800     0.033245     0.071905         1         4773.3001   \n",
       "518472         3.316     0.021712    -0.017295         1           20.7360   \n",
       "518473        34.255     0.027601     0.032132         1          136.3840   \n",
       "\n",
       "        ebitda_ttm  eps_ttm  annc_date  total_debt_to_total_capital  \\\n",
       "518430     149.347   2.0218 2012-06-28                      24.8925   \n",
       "518433     160.002   2.2628 2012-08-06                      83.8292   \n",
       "518461    1800.600   3.5552 2012-08-01                      22.1879   \n",
       "518472       6.388   0.5666 2012-08-21                       0.0000   \n",
       "518473      34.409   0.7800 2012-08-07                       0.0000   \n",
       "\n",
       "       net_debt_to_ebitda  \n",
       "518430             1.1048  \n",
       "518433             7.5614  \n",
       "518461            -0.6199  \n",
       "518472            -3.8530  \n",
       "518473            -2.9752  \n",
       "\n",
       "[5 rows x 22 columns]"
      ]
     },
     "execution_count": 11,
     "metadata": {},
     "output_type": "execute_result"
    }
   ],
   "source": [
    "df.head()"
   ]
  },
  {
   "cell_type": "code",
   "execution_count": 12,
   "metadata": {
    "collapsed": false
   },
   "outputs": [
    {
     "data": {
      "text/plain": [
       "Index(['date', 'ticker', 'price', 'vol10', 'vol60', 'vol90', 'vol360',\n",
       "       'market_cap', 'beta', 'volume', 'div_ratio', 'eps', 'gross_profit',\n",
       "       'f_log_ret_1', 'f_log_ret_4', 'in_r3000', 'gross_profit_ttm',\n",
       "       'ebitda_ttm', 'eps_ttm', 'annc_date', 'total_debt_to_total_capital',\n",
       "       'net_debt_to_ebitda'],\n",
       "      dtype='object')"
      ]
     },
     "execution_count": 12,
     "metadata": {},
     "output_type": "execute_result"
    }
   ],
   "source": [
    "df.columns"
   ]
  },
  {
   "cell_type": "code",
   "execution_count": 13,
   "metadata": {
    "collapsed": false
   },
   "outputs": [
    {
     "data": {
      "text/plain": [
       "dict_keys([numpy.datetime64('2010-10-05T00:00:00.000000000'), numpy.datetime64('2010-10-12T00:00:00.000000000'), numpy.datetime64('2016-08-23T00:00:00.000000000'), numpy.datetime64('2014-04-29T00:00:00.000000000'), numpy.datetime64('2016-02-09T00:00:00.000000000'), numpy.datetime64('2015-07-28T00:00:00.000000000'), numpy.datetime64('2012-12-25T00:00:00.000000000'), numpy.datetime64('2017-08-15T00:00:00.000000000'), numpy.datetime64('2012-06-12T00:00:00.000000000'), numpy.datetime64('2015-01-13T00:00:00.000000000'), numpy.datetime64('2017-01-31T00:00:00.000000000'), numpy.datetime64('2014-07-01T00:00:00.000000000'), numpy.datetime64('2016-07-19T00:00:00.000000000'), numpy.datetime64('2013-12-17T00:00:00.000000000'), numpy.datetime64('2011-05-17T00:00:00.000000000'), numpy.datetime64('2016-01-05T00:00:00.000000000'), numpy.datetime64('2013-06-04T00:00:00.000000000'), numpy.datetime64('2010-11-02T00:00:00.000000000'), numpy.datetime64('2015-06-23T00:00:00.000000000'), numpy.datetime64('2012-11-20T00:00:00.000000000'), numpy.datetime64('2017-07-11T00:00:00.000000000'), numpy.datetime64('2014-12-09T00:00:00.000000000'), numpy.datetime64('2012-05-08T00:00:00.000000000'), numpy.datetime64('2016-12-27T00:00:00.000000000'), numpy.datetime64('2014-05-27T00:00:00.000000000'), numpy.datetime64('2011-10-25T00:00:00.000000000'), numpy.datetime64('2016-06-14T00:00:00.000000000'), numpy.datetime64('2013-11-12T00:00:00.000000000'), numpy.datetime64('2011-04-12T00:00:00.000000000'), numpy.datetime64('2015-12-01T00:00:00.000000000'), numpy.datetime64('2013-04-30T00:00:00.000000000'), numpy.datetime64('2017-01-17T00:00:00.000000000'), numpy.datetime64('2015-05-19T00:00:00.000000000'), numpy.datetime64('2012-10-16T00:00:00.000000000'), numpy.datetime64('2017-06-06T00:00:00.000000000'), numpy.datetime64('2014-11-04T00:00:00.000000000'), numpy.datetime64('2012-04-03T00:00:00.000000000'), numpy.datetime64('2016-11-22T00:00:00.000000000'), numpy.datetime64('2014-04-22T00:00:00.000000000'), numpy.datetime64('2011-09-20T00:00:00.000000000'), numpy.datetime64('2013-10-08T00:00:00.000000000'), numpy.datetime64('2011-03-08T00:00:00.000000000'), numpy.datetime64('2015-10-27T00:00:00.000000000'), numpy.datetime64('2013-03-26T00:00:00.000000000'), numpy.datetime64('2014-01-21T00:00:00.000000000'), numpy.datetime64('2015-04-14T00:00:00.000000000'), numpy.datetime64('2012-09-11T00:00:00.000000000'), numpy.datetime64('2017-05-02T00:00:00.000000000'), numpy.datetime64('2014-09-30T00:00:00.000000000'), numpy.datetime64('2012-02-28T00:00:00.000000000'), numpy.datetime64('2016-10-18T00:00:00.000000000'), numpy.datetime64('2014-03-18T00:00:00.000000000'), numpy.datetime64('2011-08-16T00:00:00.000000000'), numpy.datetime64('2016-04-05T00:00:00.000000000'), numpy.datetime64('2013-09-03T00:00:00.000000000'), numpy.datetime64('2016-04-19T00:00:00.000000000'), numpy.datetime64('2011-02-01T00:00:00.000000000'), numpy.datetime64('2015-09-22T00:00:00.000000000'), numpy.datetime64('2013-02-19T00:00:00.000000000'), numpy.datetime64('2015-03-10T00:00:00.000000000'), numpy.datetime64('2012-08-07T00:00:00.000000000'), numpy.datetime64('2017-03-28T00:00:00.000000000'), numpy.datetime64('2014-08-26T00:00:00.000000000'), numpy.datetime64('2012-01-24T00:00:00.000000000'), numpy.datetime64('2016-09-13T00:00:00.000000000'), numpy.datetime64('2014-02-11T00:00:00.000000000'), numpy.datetime64('2011-07-12T00:00:00.000000000'), numpy.datetime64('2016-03-01T00:00:00.000000000'), numpy.datetime64('2013-07-30T00:00:00.000000000'), numpy.datetime64('2010-12-28T00:00:00.000000000'), numpy.datetime64('2012-01-03T00:00:00.000000000'), numpy.datetime64('2015-08-18T00:00:00.000000000'), numpy.datetime64('2013-01-15T00:00:00.000000000'), numpy.datetime64('2017-09-05T00:00:00.000000000'), numpy.datetime64('2015-02-03T00:00:00.000000000'), numpy.datetime64('2012-07-03T00:00:00.000000000'), numpy.datetime64('2017-02-21T00:00:00.000000000'), numpy.datetime64('2014-07-22T00:00:00.000000000'), numpy.datetime64('2011-12-20T00:00:00.000000000'), numpy.datetime64('2012-03-06T00:00:00.000000000'), numpy.datetime64('2016-08-09T00:00:00.000000000'), numpy.datetime64('2014-01-07T00:00:00.000000000'), numpy.datetime64('2011-06-07T00:00:00.000000000'), numpy.datetime64('2016-01-26T00:00:00.000000000'), numpy.datetime64('2013-06-25T00:00:00.000000000'), numpy.datetime64('2010-11-23T00:00:00.000000000'), numpy.datetime64('2015-07-14T00:00:00.000000000'), numpy.datetime64('2012-12-11T00:00:00.000000000'), numpy.datetime64('2017-08-01T00:00:00.000000000'), numpy.datetime64('2014-12-30T00:00:00.000000000'), numpy.datetime64('2012-05-29T00:00:00.000000000'), numpy.datetime64('2014-06-17T00:00:00.000000000'), numpy.datetime64('2011-11-15T00:00:00.000000000'), numpy.datetime64('2016-07-05T00:00:00.000000000'), numpy.datetime64('2013-12-03T00:00:00.000000000'), numpy.datetime64('2011-05-03T00:00:00.000000000'), numpy.datetime64('2015-12-22T00:00:00.000000000'), numpy.datetime64('2013-05-21T00:00:00.000000000'), numpy.datetime64('2010-10-19T00:00:00.000000000'), numpy.datetime64('2015-06-09T00:00:00.000000000'), numpy.datetime64('2012-11-06T00:00:00.000000000'), numpy.datetime64('2017-06-27T00:00:00.000000000'), numpy.datetime64('2014-11-25T00:00:00.000000000'), numpy.datetime64('2011-09-27T00:00:00.000000000'), numpy.datetime64('2012-04-24T00:00:00.000000000'), numpy.datetime64('2016-12-13T00:00:00.000000000'), numpy.datetime64('2014-05-13T00:00:00.000000000'), numpy.datetime64('2011-10-11T00:00:00.000000000'), numpy.datetime64('2016-05-31T00:00:00.000000000'), numpy.datetime64('2013-10-29T00:00:00.000000000'), numpy.datetime64('2011-03-29T00:00:00.000000000'), numpy.datetime64('2015-11-17T00:00:00.000000000'), numpy.datetime64('2013-04-16T00:00:00.000000000'), numpy.datetime64('2015-05-05T00:00:00.000000000'), numpy.datetime64('2012-10-02T00:00:00.000000000'), numpy.datetime64('2017-05-23T00:00:00.000000000'), numpy.datetime64('2014-10-21T00:00:00.000000000'), numpy.datetime64('2012-03-20T00:00:00.000000000'), numpy.datetime64('2016-11-08T00:00:00.000000000'), numpy.datetime64('2014-04-08T00:00:00.000000000'), numpy.datetime64('2011-09-06T00:00:00.000000000'), numpy.datetime64('2016-04-26T00:00:00.000000000'), numpy.datetime64('2013-09-24T00:00:00.000000000'), numpy.datetime64('2011-02-22T00:00:00.000000000'), numpy.datetime64('2015-10-13T00:00:00.000000000'), numpy.datetime64('2013-03-12T00:00:00.000000000'), numpy.datetime64('2011-11-29T00:00:00.000000000'), numpy.datetime64('2015-03-31T00:00:00.000000000'), numpy.datetime64('2012-08-28T00:00:00.000000000'), numpy.datetime64('2017-04-18T00:00:00.000000000'), numpy.datetime64('2014-09-16T00:00:00.000000000'), numpy.datetime64('2012-02-14T00:00:00.000000000'), numpy.datetime64('2016-10-04T00:00:00.000000000'), numpy.datetime64('2014-03-04T00:00:00.000000000'), numpy.datetime64('2011-08-02T00:00:00.000000000'), numpy.datetime64('2016-03-22T00:00:00.000000000'), numpy.datetime64('2013-08-20T00:00:00.000000000'), numpy.datetime64('2011-01-18T00:00:00.000000000'), numpy.datetime64('2015-09-08T00:00:00.000000000'), numpy.datetime64('2013-02-05T00:00:00.000000000'), numpy.datetime64('2017-09-26T00:00:00.000000000'), numpy.datetime64('2015-02-24T00:00:00.000000000'), numpy.datetime64('2012-07-24T00:00:00.000000000'), numpy.datetime64('2017-03-14T00:00:00.000000000'), numpy.datetime64('2014-08-12T00:00:00.000000000'), numpy.datetime64('2012-01-10T00:00:00.000000000'), numpy.datetime64('2016-08-30T00:00:00.000000000'), numpy.datetime64('2014-01-28T00:00:00.000000000'), numpy.datetime64('2011-06-28T00:00:00.000000000'), numpy.datetime64('2016-02-16T00:00:00.000000000'), numpy.datetime64('2011-06-21T00:00:00.000000000'), numpy.datetime64('2013-07-16T00:00:00.000000000'), numpy.datetime64('2010-12-14T00:00:00.000000000'), numpy.datetime64('2015-08-04T00:00:00.000000000'), numpy.datetime64('2013-01-01T00:00:00.000000000'), numpy.datetime64('2017-08-22T00:00:00.000000000'), numpy.datetime64('2015-01-20T00:00:00.000000000'), numpy.datetime64('2012-06-19T00:00:00.000000000'), numpy.datetime64('2017-02-07T00:00:00.000000000'), numpy.datetime64('2014-07-08T00:00:00.000000000'), numpy.datetime64('2011-12-06T00:00:00.000000000'), numpy.datetime64('2016-07-26T00:00:00.000000000'), numpy.datetime64('2013-12-24T00:00:00.000000000'), numpy.datetime64('2011-05-24T00:00:00.000000000'), numpy.datetime64('2016-01-12T00:00:00.000000000'), numpy.datetime64('2013-06-11T00:00:00.000000000'), numpy.datetime64('2010-11-09T00:00:00.000000000'), numpy.datetime64('2015-06-30T00:00:00.000000000'), numpy.datetime64('2012-11-27T00:00:00.000000000'), numpy.datetime64('2017-07-18T00:00:00.000000000'), numpy.datetime64('2014-12-16T00:00:00.000000000'), numpy.datetime64('2012-05-15T00:00:00.000000000'), numpy.datetime64('2017-01-03T00:00:00.000000000'), numpy.datetime64('2014-06-03T00:00:00.000000000'), numpy.datetime64('2011-11-01T00:00:00.000000000'), numpy.datetime64('2013-10-15T00:00:00.000000000'), numpy.datetime64('2016-06-21T00:00:00.000000000'), numpy.datetime64('2013-11-19T00:00:00.000000000'), numpy.datetime64('2011-04-19T00:00:00.000000000'), numpy.datetime64('2015-12-08T00:00:00.000000000'), numpy.datetime64('2013-05-07T00:00:00.000000000'), numpy.datetime64('2015-05-26T00:00:00.000000000'), numpy.datetime64('2012-10-23T00:00:00.000000000'), numpy.datetime64('2017-06-13T00:00:00.000000000'), numpy.datetime64('2014-11-11T00:00:00.000000000'), numpy.datetime64('2012-04-10T00:00:00.000000000'), numpy.datetime64('2016-11-29T00:00:00.000000000'), numpy.datetime64('2016-05-17T00:00:00.000000000'), numpy.datetime64('2015-11-03T00:00:00.000000000'), numpy.datetime64('2015-04-21T00:00:00.000000000'), numpy.datetime64('2017-05-09T00:00:00.000000000'), numpy.datetime64('2011-03-15T00:00:00.000000000'), numpy.datetime64('2014-10-07T00:00:00.000000000'), numpy.datetime64('2016-10-25T00:00:00.000000000'), numpy.datetime64('2014-03-25T00:00:00.000000000'), numpy.datetime64('2011-08-23T00:00:00.000000000'), numpy.datetime64('2016-04-12T00:00:00.000000000'), numpy.datetime64('2013-09-10T00:00:00.000000000'), numpy.datetime64('2011-02-08T00:00:00.000000000'), numpy.datetime64('2015-09-29T00:00:00.000000000'), numpy.datetime64('2013-02-26T00:00:00.000000000'), numpy.datetime64('2015-03-17T00:00:00.000000000'), numpy.datetime64('2012-08-14T00:00:00.000000000'), numpy.datetime64('2017-04-04T00:00:00.000000000'), numpy.datetime64('2014-09-02T00:00:00.000000000'), numpy.datetime64('2012-01-31T00:00:00.000000000'), numpy.datetime64('2016-09-20T00:00:00.000000000'), numpy.datetime64('2014-02-18T00:00:00.000000000'), numpy.datetime64('2011-07-19T00:00:00.000000000'), numpy.datetime64('2016-03-08T00:00:00.000000000'), numpy.datetime64('2013-08-06T00:00:00.000000000'), numpy.datetime64('2011-01-04T00:00:00.000000000'), numpy.datetime64('2015-08-25T00:00:00.000000000'), numpy.datetime64('2013-01-22T00:00:00.000000000'), numpy.datetime64('2013-07-09T00:00:00.000000000'), numpy.datetime64('2017-09-12T00:00:00.000000000'), numpy.datetime64('2015-02-10T00:00:00.000000000'), numpy.datetime64('2012-07-10T00:00:00.000000000'), numpy.datetime64('2017-02-28T00:00:00.000000000'), numpy.datetime64('2014-07-29T00:00:00.000000000'), numpy.datetime64('2011-12-27T00:00:00.000000000'), numpy.datetime64('2016-08-16T00:00:00.000000000'), numpy.datetime64('2014-01-14T00:00:00.000000000'), numpy.datetime64('2011-06-14T00:00:00.000000000'), numpy.datetime64('2016-02-02T00:00:00.000000000'), numpy.datetime64('2013-07-02T00:00:00.000000000'), numpy.datetime64('2010-11-30T00:00:00.000000000'), numpy.datetime64('2015-07-21T00:00:00.000000000'), numpy.datetime64('2012-12-18T00:00:00.000000000'), numpy.datetime64('2017-08-08T00:00:00.000000000'), numpy.datetime64('2015-01-06T00:00:00.000000000'), numpy.datetime64('2012-06-05T00:00:00.000000000'), numpy.datetime64('2017-01-24T00:00:00.000000000'), numpy.datetime64('2014-06-24T00:00:00.000000000'), numpy.datetime64('2011-11-22T00:00:00.000000000'), numpy.datetime64('2016-07-12T00:00:00.000000000'), numpy.datetime64('2013-12-10T00:00:00.000000000'), numpy.datetime64('2011-05-10T00:00:00.000000000'), numpy.datetime64('2010-12-07T00:00:00.000000000'), numpy.datetime64('2015-12-29T00:00:00.000000000'), numpy.datetime64('2013-05-28T00:00:00.000000000'), numpy.datetime64('2010-10-26T00:00:00.000000000'), numpy.datetime64('2015-06-16T00:00:00.000000000'), numpy.datetime64('2012-11-13T00:00:00.000000000'), numpy.datetime64('2017-07-04T00:00:00.000000000'), numpy.datetime64('2014-12-02T00:00:00.000000000'), numpy.datetime64('2012-05-01T00:00:00.000000000'), numpy.datetime64('2016-12-20T00:00:00.000000000'), numpy.datetime64('2014-05-20T00:00:00.000000000'), numpy.datetime64('2011-10-18T00:00:00.000000000'), numpy.datetime64('2016-06-07T00:00:00.000000000'), numpy.datetime64('2013-11-05T00:00:00.000000000'), numpy.datetime64('2011-04-05T00:00:00.000000000'), numpy.datetime64('2015-11-24T00:00:00.000000000'), numpy.datetime64('2013-04-23T00:00:00.000000000'), numpy.datetime64('2015-05-12T00:00:00.000000000'), numpy.datetime64('2012-10-09T00:00:00.000000000'), numpy.datetime64('2017-05-30T00:00:00.000000000'), numpy.datetime64('2014-10-28T00:00:00.000000000'), numpy.datetime64('2012-03-27T00:00:00.000000000'), numpy.datetime64('2016-11-15T00:00:00.000000000'), numpy.datetime64('2014-04-15T00:00:00.000000000'), numpy.datetime64('2013-04-02T00:00:00.000000000'), numpy.datetime64('2011-09-13T00:00:00.000000000'), numpy.datetime64('2016-05-03T00:00:00.000000000'), numpy.datetime64('2013-10-01T00:00:00.000000000'), numpy.datetime64('2011-03-01T00:00:00.000000000'), numpy.datetime64('2015-10-20T00:00:00.000000000'), numpy.datetime64('2013-03-19T00:00:00.000000000'), numpy.datetime64('2015-04-07T00:00:00.000000000'), numpy.datetime64('2012-09-04T00:00:00.000000000'), numpy.datetime64('2017-04-25T00:00:00.000000000'), numpy.datetime64('2014-09-23T00:00:00.000000000'), numpy.datetime64('2012-02-21T00:00:00.000000000'), numpy.datetime64('2016-10-11T00:00:00.000000000'), numpy.datetime64('2014-03-11T00:00:00.000000000'), numpy.datetime64('2011-08-09T00:00:00.000000000'), numpy.datetime64('2016-03-29T00:00:00.000000000'), numpy.datetime64('2013-08-27T00:00:00.000000000'), numpy.datetime64('2011-01-25T00:00:00.000000000'), numpy.datetime64('2015-09-15T00:00:00.000000000'), numpy.datetime64('2013-02-12T00:00:00.000000000'), numpy.datetime64('2017-10-03T00:00:00.000000000'), numpy.datetime64('2015-03-03T00:00:00.000000000'), numpy.datetime64('2012-07-31T00:00:00.000000000'), numpy.datetime64('2016-06-28T00:00:00.000000000'), numpy.datetime64('2017-03-21T00:00:00.000000000'), numpy.datetime64('2014-08-19T00:00:00.000000000'), numpy.datetime64('2012-01-17T00:00:00.000000000'), numpy.datetime64('2016-09-06T00:00:00.000000000'), numpy.datetime64('2014-02-04T00:00:00.000000000'), numpy.datetime64('2011-07-05T00:00:00.000000000'), numpy.datetime64('2016-02-23T00:00:00.000000000'), numpy.datetime64('2013-07-23T00:00:00.000000000'), numpy.datetime64('2010-12-21T00:00:00.000000000'), numpy.datetime64('2015-08-11T00:00:00.000000000'), numpy.datetime64('2013-01-08T00:00:00.000000000'), numpy.datetime64('2017-08-29T00:00:00.000000000'), numpy.datetime64('2015-01-27T00:00:00.000000000'), numpy.datetime64('2012-06-26T00:00:00.000000000'), numpy.datetime64('2017-02-14T00:00:00.000000000'), numpy.datetime64('2014-07-15T00:00:00.000000000'), numpy.datetime64('2011-12-13T00:00:00.000000000'), numpy.datetime64('2016-08-02T00:00:00.000000000'), numpy.datetime64('2013-12-31T00:00:00.000000000'), numpy.datetime64('2011-05-31T00:00:00.000000000'), numpy.datetime64('2016-01-19T00:00:00.000000000'), numpy.datetime64('2010-11-16T00:00:00.000000000'), numpy.datetime64('2015-07-07T00:00:00.000000000'), numpy.datetime64('2016-05-10T00:00:00.000000000'), numpy.datetime64('2012-12-04T00:00:00.000000000'), numpy.datetime64('2017-07-25T00:00:00.000000000'), numpy.datetime64('2014-12-23T00:00:00.000000000'), numpy.datetime64('2012-05-22T00:00:00.000000000'), numpy.datetime64('2017-01-10T00:00:00.000000000'), numpy.datetime64('2014-06-10T00:00:00.000000000'), numpy.datetime64('2011-11-08T00:00:00.000000000'), numpy.datetime64('2013-11-26T00:00:00.000000000'), numpy.datetime64('2011-04-26T00:00:00.000000000'), numpy.datetime64('2015-12-15T00:00:00.000000000'), numpy.datetime64('2013-05-14T00:00:00.000000000'), numpy.datetime64('2015-06-02T00:00:00.000000000'), numpy.datetime64('2012-10-30T00:00:00.000000000'), numpy.datetime64('2017-06-20T00:00:00.000000000'), numpy.datetime64('2014-11-18T00:00:00.000000000'), numpy.datetime64('2012-04-17T00:00:00.000000000'), numpy.datetime64('2016-12-06T00:00:00.000000000'), numpy.datetime64('2014-05-06T00:00:00.000000000'), numpy.datetime64('2011-10-04T00:00:00.000000000'), numpy.datetime64('2016-05-24T00:00:00.000000000'), numpy.datetime64('2013-10-22T00:00:00.000000000'), numpy.datetime64('2011-03-22T00:00:00.000000000'), numpy.datetime64('2013-06-18T00:00:00.000000000'), numpy.datetime64('2015-11-10T00:00:00.000000000'), numpy.datetime64('2013-04-09T00:00:00.000000000'), numpy.datetime64('2015-04-28T00:00:00.000000000'), numpy.datetime64('2012-09-25T00:00:00.000000000'), numpy.datetime64('2017-05-16T00:00:00.000000000'), numpy.datetime64('2014-10-14T00:00:00.000000000'), numpy.datetime64('2012-03-13T00:00:00.000000000'), numpy.datetime64('2016-11-01T00:00:00.000000000'), numpy.datetime64('2014-04-01T00:00:00.000000000'), numpy.datetime64('2011-08-30T00:00:00.000000000'), numpy.datetime64('2013-09-17T00:00:00.000000000'), numpy.datetime64('2011-02-15T00:00:00.000000000'), numpy.datetime64('2015-10-06T00:00:00.000000000'), numpy.datetime64('2013-03-05T00:00:00.000000000'), numpy.datetime64('2015-03-24T00:00:00.000000000'), numpy.datetime64('2012-08-21T00:00:00.000000000'), numpy.datetime64('2017-04-11T00:00:00.000000000'), numpy.datetime64('2014-09-09T00:00:00.000000000'), numpy.datetime64('2012-02-07T00:00:00.000000000'), numpy.datetime64('2016-09-27T00:00:00.000000000'), numpy.datetime64('2012-09-18T00:00:00.000000000'), numpy.datetime64('2014-02-25T00:00:00.000000000'), numpy.datetime64('2011-07-26T00:00:00.000000000'), numpy.datetime64('2016-03-15T00:00:00.000000000'), numpy.datetime64('2013-08-13T00:00:00.000000000'), numpy.datetime64('2011-01-11T00:00:00.000000000'), numpy.datetime64('2015-09-01T00:00:00.000000000'), numpy.datetime64('2013-01-29T00:00:00.000000000'), numpy.datetime64('2017-09-19T00:00:00.000000000'), numpy.datetime64('2015-02-17T00:00:00.000000000'), numpy.datetime64('2012-07-17T00:00:00.000000000'), numpy.datetime64('2017-03-07T00:00:00.000000000'), numpy.datetime64('2014-08-05T00:00:00.000000000')])"
      ]
     },
     "execution_count": 13,
     "metadata": {},
     "output_type": "execute_result"
    }
   ],
   "source": [
    "univ.keys()"
   ]
  },
  {
   "cell_type": "code",
   "execution_count": null,
   "metadata": {
    "collapsed": true
   },
   "outputs": [],
   "source": []
  }
 ],
 "metadata": {
  "anaconda-cloud": {},
  "kernelspec": {
   "display_name": "Python [conda root]",
   "language": "python",
   "name": "conda-root-py"
  },
  "language_info": {
   "codemirror_mode": {
    "name": "ipython",
    "version": 3
   },
   "file_extension": ".py",
   "mimetype": "text/x-python",
   "name": "python",
   "nbconvert_exporter": "python",
   "pygments_lexer": "ipython3",
   "version": "3.5.2"
  }
 },
 "nbformat": 4,
 "nbformat_minor": 1
}
