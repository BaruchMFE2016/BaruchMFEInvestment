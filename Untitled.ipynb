{
 "cells": [
  {
   "cell_type": "code",
   "execution_count": 5,
   "metadata": {
    "collapsed": true
   },
   "outputs": [],
   "source": [
    "import numpy as np\n",
    "import pandas as pd\n",
    "import matplotlib.pyplot as plt\n",
    "from datetime import datetime, timedelta\n",
    "from setup.utils import *\n",
    "from setup.univ_setup import *\n",
    "\n",
    "%matplotlib inline"
   ]
  },
  {
   "cell_type": "code",
   "execution_count": 2,
   "metadata": {
    "collapsed": false
   },
   "outputs": [
    {
     "name": "stdout",
     "output_type": "stream",
     "text": [
      "Setup R3000 universe\n",
      "use existing binary file\n",
      "0.396907 seconds\n"
     ]
    }
   ],
   "source": [
    "datadir = '/home/derek-qi/Documents/R3000_Data/data/r3000/'\n",
    "univ = univ_setup(datadir, silent=False)\n",
    "filt_na(univ)"
   ]
  },
  {
   "cell_type": "code",
   "execution_count": 3,
   "metadata": {
    "collapsed": false
   },
   "outputs": [],
   "source": [
    "data = stack(univ)"
   ]
  },
  {
   "cell_type": "code",
   "execution_count": 15,
   "metadata": {
    "collapsed": true
   },
   "outputs": [],
   "source": [
    "t = datetime(2016, 12, 31)\n",
    "head = timedelta(weeks = 4)\n",
    "tail = timedelta(weeks = 52)"
   ]
  },
  {
   "cell_type": "code",
   "execution_count": 30,
   "metadata": {
    "collapsed": true
   },
   "outputs": [],
   "source": [
    "def _mmt_gap(ret_series, q1, q2):\n",
    "    if ret_series.empty:\n",
    "        return np.nan\n",
    "    \n",
    "    assert q1 > q2\n",
    "    return np.percentile(ret_series, q1) - np.percentile(ret_series, q2)\n",
    "\n",
    "\n",
    "def momentum_gap(univ_table, head, tail, q1=75, q2=25, naming='simple'):\n",
    "    '''\n",
    "    Momentum gap is defined as:\n",
    "    q1 quantile - q2 quantile of the return series.\n",
    "    '''\n",
    "    name = 'momentum_gap'\n",
    "    retname = 'f_log_ret_1'\n",
    "    if naming == 'full':\n",
    "        name += 'time_%d_%d_range_%d_%d' % (head, tail, q1, q2)\n",
    "    univ_table[name] = np.nan\n",
    "\n",
    "    for idx, row in univ_table.iterrows():\n",
    "        t, ticker = row.date, row.ticker\n",
    "        ret_series = univ_table.loc[(univ_table.date >= t-timedelta(weeks=tail+1)) \n",
    "                        & (data.date <= t-timedelta(weeks=head+1)), retname]\n",
    "        row[name] = _mmt_gap(ret_series, q1, q2)\n",
    "\n",
    "    mmt_gap_dict = {}\n",
    "    datelst = np.unique(univ_table['date'])\n",
    "    for t in datelst:\n",
    "        table = univ_table.xs(t, level='date')[[name]].copy()\n",
    "        table = table.reset_index()\n",
    "        table.dropna(inplace = True)\n",
    "        mmt_gap_dict[t] = table\n",
    "    return mmt_gap_dict"
   ]
  },
  {
   "cell_type": "code",
   "execution_count": null,
   "metadata": {
    "collapsed": false
   },
   "outputs": [],
   "source": [
    "mmt_gap_dict = momentum_gap(data, 4, 52)"
   ]
  },
  {
   "cell_type": "code",
   "execution_count": null,
   "metadata": {
    "collapsed": true
   },
   "outputs": [],
   "source": []
  }
 ],
 "metadata": {
  "anaconda-cloud": {},
  "kernelspec": {
   "display_name": "Python [conda root]",
   "language": "python",
   "name": "conda-root-py"
  },
  "language_info": {
   "codemirror_mode": {
    "name": "ipython",
    "version": 3
   },
   "file_extension": ".py",
   "mimetype": "text/x-python",
   "name": "python",
   "nbconvert_exporter": "python",
   "pygments_lexer": "ipython3",
   "version": "3.5.2"
  }
 },
 "nbformat": 4,
 "nbformat_minor": 1
}
