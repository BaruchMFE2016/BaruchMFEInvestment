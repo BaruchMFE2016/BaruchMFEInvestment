{
 "cells": [
  {
   "cell_type": "code",
   "execution_count": 1,
   "metadata": {
    "collapsed": true
   },
   "outputs": [],
   "source": [
    "import numpy as np\n",
    "import pandas as pd\n",
    "from datetime import datetime"
   ]
  },
  {
   "cell_type": "code",
   "execution_count": 21,
   "metadata": {
    "collapsed": false
   },
   "outputs": [
    {
     "name": "stdout",
     "output_type": "stream",
     "text": [
      "20101105.0\n"
     ]
    }
   ],
   "source": [
    "raw = pd.read_csv('r3000_format.csv', low_memory=False)\n",
    "\n",
    "raw = raw.iloc[0:329,:]\n",
    "\n",
    "N_WEEKS, N_ASSETS = raw.shape\n",
    "\n",
    "dates = raw['Date']\n",
    "d_begin = dates[0]\n",
    "d_end = dates[328]\n",
    "print(d_begin)"
   ]
  },
  {
   "cell_type": "code",
   "execution_count": 13,
   "metadata": {
    "collapsed": false
   },
   "outputs": [],
   "source": [
    "def transform(tgt_dates):\n",
    "    flag_lst = [1] * len(dates)\n",
    "    ti, cd = 0, 0\n",
    "    while ti < len(dates) - 1:\n",
    "        t = dates[ti]\n",
    "        t_next = dates[ti + 1]\n",
    "        if not tgt_dates:\n",
    "            return flag_lst\n",
    "    \n",
    "        while tgt_dates[0] < t:\n",
    "            tgt_dates.pop(0)\n",
    "            if not tgt_dates:\n",
    "                return flag_lst\n",
    "    \n",
    "        if not tgt_dates:\n",
    "            return flag_lst\n",
    "            \n",
    "        if tgt_dates[0] < t_next:\n",
    "            # print(tgt_date[0], t_next)\n",
    "            flag = 0\n",
    "            cd = 26\n",
    "        else:\n",
    "            cd -= 1\n",
    "            cd = max(cd, 0)\n",
    "            # print(cd)\n",
    "            if cd == 0:\n",
    "                flag = 1\n",
    "        flag_lst[ti + 1] = flag\n",
    "        ti += 1\n",
    "    return flag_lst"
   ]
  },
  {
   "cell_type": "code",
   "execution_count": 69,
   "metadata": {
    "collapsed": false
   },
   "outputs": [
    {
     "name": "stdout",
     "output_type": "stream",
     "text": [
      "500\n",
      "1000\n",
      "1500\n",
      "2000\n",
      "2500\n",
      "3000\n",
      "3500\n",
      "4000\n",
      "4500\n",
      "5000\n"
     ]
    }
   ],
   "source": [
    "flag_lst = []\n",
    "for ni in range(1, N_ASSETS):\n",
    "    if ni % 500 == 0:\n",
    "        print(ni)\n",
    "    tgt_date = raw.iloc[:,ni].copy()\n",
    "    tgt_date = tgt_date.dropna()\n",
    "    tgt_date = tgt_date[::-1].tolist()\n",
    "    tgt_date.sort()\n",
    "    if tgt_date and type(tgt_date[0]) == str:\n",
    "        tgt_date = [float(d) for d in tgt_date]\n",
    "    flag_lst.append(transform(tgt_date))"
   ]
  },
  {
   "cell_type": "code",
   "execution_count": 74,
   "metadata": {
    "collapsed": false
   },
   "outputs": [],
   "source": [
    "tickers = raw.columns\n",
    "flag_lst_2 = [raw['Date'].tolist()] + flag_lst\n",
    "\n",
    "res = dict(zip(tickers, flag_lst_2))"
   ]
  },
  {
   "cell_type": "code",
   "execution_count": 75,
   "metadata": {
    "collapsed": false
   },
   "outputs": [
    {
     "data": {
      "text/plain": [
       "5236"
      ]
     },
     "execution_count": 75,
     "metadata": {},
     "output_type": "execute_result"
    }
   ],
   "source": [
    "len(flag_lst_2)"
   ]
  },
  {
   "cell_type": "code",
   "execution_count": 82,
   "metadata": {
    "collapsed": false
   },
   "outputs": [],
   "source": [
    "res = pd.DataFrame(res, index=res['Date'])"
   ]
  },
  {
   "cell_type": "code",
   "execution_count": 84,
   "metadata": {
    "collapsed": false
   },
   "outputs": [],
   "source": [
    "res.to_csv('comp_status.csv')"
   ]
  },
  {
   "cell_type": "code",
   "execution_count": 94,
   "metadata": {
    "collapsed": false
   },
   "outputs": [],
   "source": [
    "res = res.drop('Date', axis=1)"
   ]
  },
  {
   "cell_type": "code",
   "execution_count": 97,
   "metadata": {
    "collapsed": false
   },
   "outputs": [],
   "source": [
    "pool = [sum(res.iloc[k,:]) for k in range(N_WEEKS)]"
   ]
  },
  {
   "cell_type": "code",
   "execution_count": 100,
   "metadata": {
    "collapsed": false
   },
   "outputs": [
    {
     "data": {
      "image/png": "[encoded data removed]",
      "text/plain": [
       "<matplotlib.figure.Figure at 0x7f00bb7a0940>"
      ]
     },
     "metadata": {},
     "output_type": "display_data"
    }
   ],
   "source": [
    "import matplotlib.pyplot as plt\n",
    "plt.plot(pool)\n",
    "plt.show()"
   ]
  }
 ],
 "metadata": {
  "anaconda-cloud": {},
  "kernelspec": {
   "display_name": "Python [conda root]",
   "language": "python",
   "name": "conda-root-py"
  },
  "language_info": {
   "codemirror_mode": {
    "name": "ipython",
    "version": 3
   },
   "file_extension": ".py",
   "mimetype": "text/x-python",
   "name": "python",
   "nbconvert_exporter": "python",
   "pygments_lexer": "ipython3",
   "version": "3.5.2"
  }
 },
 "nbformat": 4,
 "nbformat_minor": 1
}
