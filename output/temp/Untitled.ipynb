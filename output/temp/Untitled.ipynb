{
 "cells": [
  {
   "cell_type": "code",
   "execution_count": 1,
   "metadata": {
    "collapsed": true
   },
   "outputs": [],
   "source": [
    "import numpy as np\n",
    "from scipy import optimize\n",
    "import pickle\n",
    "import seaborn as sns\n",
    "%matplotlib inline"
   ]
  },
  {
   "cell_type": "code",
   "execution_count": 2,
   "metadata": {
    "collapsed": false
   },
   "outputs": [],
   "source": [
    "with open('alpha.pkl', 'rb') as f:\n",
    "    alpha = pickle.load(f)\n",
    "with open('sigma.pkl', 'rb') as f:\n",
    "    sigma = pickle.load(f)"
   ]
  },
  {
   "cell_type": "code",
   "execution_count": 48,
   "metadata": {
    "collapsed": true
   },
   "outputs": [],
   "source": [
    "n_ins = alpha.shape[0]\n",
    "n_ins = 500\n",
    "# alpha_s = alpha[:n_ins]\n",
    "# sigma_s = sigma[:n_ins, :n_ins]\n",
    "alpha_s = alpha[-n_ins:]\n",
    "sigma_s = sigma[-n_ins:, -n_ins:]\n",
    "\n",
    "gamma, lambd, L, U, dlt, lev = 1, 0.1, -0.2, 0.2, 0, 2\n",
    "w_old = np.ones(n_ins) / n_ins"
   ]
  },
  {
   "cell_type": "code",
   "execution_count": 66,
   "metadata": {
    "collapsed": false
   },
   "outputs": [
    {
     "name": "stdout",
     "output_type": "stream",
     "text": [
      "CPU times: user 1min 30s, sys: 1.47 s, total: 1min 31s\n",
      "Wall time: 50.2 s\n"
     ]
    }
   ],
   "source": [
    "%%time\n",
    "def objective(w):\n",
    "    return 0.5 * gamma * w.T.dot(sigma_s).dot(w) - w.dot(alpha_s) + lambd * np.sum((w - w_old)**2)\n",
    "\n",
    "\n",
    "cons = ({'type':'eq',   'fun':lambda x: np.sum(x)-1}, # sum(w_i) = 1\n",
    "        {'type':'ineq', 'fun':lambda x: lev - np.sum(abs(x))}, # sum(|w_i|) <= Lev # XXX\n",
    "        {'type':'ineq', 'fun':lambda x: U-x}, # x_i <= U\n",
    "        {'type':'ineq', 'fun':lambda x: x-L}, # x_i >= L\n",
    "        )\n",
    "\n",
    "#cons = ()\n",
    "res = optimize.minimize(objective, w_old, method='slsqp', tol=1e-3, constraints=cons)"
   ]
  },
  {
   "cell_type": "code",
   "execution_count": 67,
   "metadata": {
    "collapsed": false
   },
   "outputs": [
    {
     "data": {
      "text/plain": [
       "9"
      ]
     },
     "execution_count": 67,
     "metadata": {},
     "output_type": "execute_result"
    }
   ],
   "source": [
    "res.status"
   ]
  },
  {
   "cell_type": "code",
   "execution_count": 68,
   "metadata": {
    "collapsed": false
   },
   "outputs": [
    {
     "data": {
      "text/plain": [
       "'Iteration limit exceeded'"
      ]
     },
     "execution_count": 68,
     "metadata": {},
     "output_type": "execute_result"
    }
   ],
   "source": [
    "res.message"
   ]
  },
  {
   "cell_type": "code",
   "execution_count": 69,
   "metadata": {
    "collapsed": false
   },
   "outputs": [
    {
     "data": {
      "text/plain": [
       "2.0139066106752908"
      ]
     },
     "execution_count": 69,
     "metadata": {},
     "output_type": "execute_result"
    }
   ],
   "source": [
    "sum(abs(res.x))"
   ]
  },
  {
   "cell_type": "code",
   "execution_count": null,
   "metadata": {
    "collapsed": true
   },
   "outputs": [],
   "source": []
  }
 ],
 "metadata": {
  "anaconda-cloud": {},
  "kernelspec": {
   "display_name": "Python [conda root]",
   "language": "python",
   "name": "conda-root-py"
  },
  "language_info": {
   "codemirror_mode": {
    "name": "ipython",
    "version": 3
   },
   "file_extension": ".py",
   "mimetype": "text/x-python",
   "name": "python",
   "nbconvert_exporter": "python",
   "pygments_lexer": "ipython3",
   "version": "3.5.2"
  }
 },
 "nbformat": 4,
 "nbformat_minor": 1
}
