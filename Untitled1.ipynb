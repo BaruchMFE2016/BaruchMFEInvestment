{
 "cells": [
  {
   "cell_type": "code",
   "execution_count": 1,
   "metadata": {
    "collapsed": true
   },
   "outputs": [],
   "source": [
    "import numpy as np\n",
    "import cvxopt\n",
    "from cvxopt import matrix, solvers"
   ]
  },
  {
   "cell_type": "code",
   "execution_count": 11,
   "metadata": {
    "collapsed": true
   },
   "outputs": [],
   "source": [
    "N_INS, f = 1500, 5\n",
    "fr = np.random.randn(30, f)\n",
    "X = np.random.randn(N_INS, f)\n",
    "alpha = np.random.randn(N_INS)\n",
    "SigmaF = np.cov(fr, rowvar=0)\n",
    "sigma = X.dot(SigmaF).dot(X.T)"
   ]
  },
  {
   "cell_type": "code",
   "execution_count": 12,
   "metadata": {
    "collapsed": true
   },
   "outputs": [],
   "source": [
    "gamma, lambd, L, U, dlt, Lev = 1, 0.1, -0.2, 0.2, 0, 2\n",
    "alpha_m, sigma_m = matrix(alpha), matrix(sigma)\n",
    "N_INS = alpha_m.size[0]\n",
    "\n",
    "# Tool matices\n",
    "zero_m = matrix(0.0, (N_INS, N_INS))\n",
    "I = matrix(np.eye(N_INS))\n",
    "neg_I = - matrix(np.eye(N_INS))"
   ]
  },
  {
   "cell_type": "code",
   "execution_count": 13,
   "metadata": {
    "collapsed": false
   },
   "outputs": [],
   "source": [
    "# matrices in quadratic function 1/2 x'Px + q'x\n",
    "q = matrix([-1 * alpha_m, matrix(0.0, (N_INS, 1))])\n",
    "P = matrix([[gamma * sigma_m + lambd * I, zero_m], [zero_m, zero_m]])\n",
    "\n",
    "# define the constraints\n",
    "# equalities Ax = b\n",
    "# sum of all the weights equal to 1\n",
    "A = matrix([[matrix(1.0, (1, N_INS))], [matrix(0.0, (1, N_INS))]])\n",
    "b = matrix(1.0) \n",
    "\n",
    "# inequalities Gx <= h\n",
    "G_lst = []\n",
    "h_lst = []\n",
    "\n",
    "# Constraints\n",
    "\n",
    "# sum of |w_i| < Lev\n",
    "G_lst.append(matrix([[matrix(0.0, (1, N_INS))], [matrix(1.0, (1, N_INS))]]))\n",
    "h_lst.append(float(Lev))\n",
    "\n",
    "# All the absolute values are positive\n",
    "G_lst.append(matrix([zero_m, neg_I]).T)\n",
    "h_lst.append(matrix(0.0, (N_INS, 1)))\n",
    "\n",
    "# And they are absolute values\n",
    "G_lst.append(matrix([I, neg_I]).T)\n",
    "h_lst.append(matrix(0.0, (N_INS, 1)))\n",
    "\n",
    "G_lst.append(matrix([neg_I, neg_I]).T)\n",
    "h_lst.append(matrix(0.0, (N_INS, 1)))\n",
    "\n",
    "# L_i < w_i < U_i\n",
    "G_lst.append(matrix([I, zero_m]).T)\n",
    "h_lst.append(matrix(U, (N_INS, 1)))\n",
    "\n",
    "G_lst.append(matrix([neg_I, zero_m]).T)\n",
    "h_lst.append(matrix(-L, (N_INS, 1)))\n",
    "\n",
    "# Stacking together\n",
    "G = matrix([G for G in G_lst])\n",
    "h = matrix([h for h in h_lst])"
   ]
  },
  {
   "cell_type": "code",
   "execution_count": 14,
   "metadata": {
    "collapsed": false
   },
   "outputs": [
    {
     "name": "stdout",
     "output_type": "stream",
     "text": [
      "     pcost       dcost       gap    pres   dres\n",
      " 0: -3.6489e+02 -1.1777e+03  3e+04  2e+01  4e+00\n",
      " 1:  4.4442e+01 -1.3004e+03  4e+03  1e+00  3e-01\n",
      " 2: -1.0999e+00 -2.8074e+02  4e+02  6e-02  2e-02\n",
      " 3: -6.3208e-01 -1.4971e+01  2e+01  6e-04  2e-04\n",
      " 4: -9.4598e-01 -1.1263e+01  1e+01  3e-04  1e-04\n",
      " 5: -1.5368e+00 -1.1822e+01  1e+01  3e-04  9e-05\n",
      " 6: -9.7042e-01 -1.1326e+01  1e+01  3e-04  9e-05\n",
      " 7: -2.1285e+00 -9.9674e+00  8e+00  1e-04  4e-05\n",
      " 8: -2.9744e+00 -9.8387e+00  7e+00  8e-05  2e-05\n",
      " 9: -2.8934e+00 -9.7394e+00  7e+00  8e-05  2e-05\n",
      "10: -3.8962e+00 -9.1393e+00  5e+00  1e-05  4e-06\n",
      "11: -4.2054e+00 -8.5362e+00  4e+00  9e-06  2e-06\n",
      "12: -3.9571e+00 -8.2864e+00  4e+00  8e-06  2e-06\n",
      "13: -4.0970e+00 -8.1936e+00  4e+00  7e-06  2e-06\n",
      "14: -4.6213e+00 -7.5257e+00  3e+00  4e-06  1e-06\n",
      "15: -4.5655e+00 -7.4613e+00  3e+00  4e-06  1e-06\n",
      "16: -4.6209e+00 -7.4863e+00  3e+00  3e-06  1e-06\n",
      "17: -5.0874e+00 -6.6952e+00  2e+00  5e-07  2e-07\n",
      "18: -5.4844e+00 -6.2351e+00  8e-01  1e-07  4e-08\n",
      "19: -5.6156e+00 -6.0814e+00  5e-01  6e-08  2e-08\n",
      "20: -5.6554e+00 -6.0342e+00  4e-01  3e-08  8e-09\n",
      "21: -5.8385e+00 -5.8844e+00  5e-02  3e-09  7e-10\n",
      "22: -5.8641e+00 -5.8646e+00  5e-04  3e-11  7e-12\n",
      "23: -5.8644e+00 -5.8644e+00  5e-06  3e-13  6e-12\n",
      "Optimal solution found.\n",
      "CPU times: user 1min 15s, sys: 852 ms, total: 1min 16s\n",
      "Wall time: 38.3 s\n"
     ]
    }
   ],
   "source": [
    "%%time\n",
    "sol = solvers.qp(P, q, G, h, A, b)"
   ]
  },
  {
   "cell_type": "code",
   "execution_count": 15,
   "metadata": {
    "collapsed": false
   },
   "outputs": [],
   "source": [
    "w = np.asarray(sol['x'])"
   ]
  },
  {
   "cell_type": "code",
   "execution_count": 16,
   "metadata": {
    "collapsed": false
   },
   "outputs": [
    {
     "data": {
      "text/plain": [
       "array([ 0.19999996,  0.15304642, -0.19999949,  0.2       , -0.09999986,\n",
       "       -0.19999996,  0.14169435,  0.08210996,  0.06438605,  0.19999999,\n",
       "        0.18453253,  0.19999999,  0.07422985,  0.19999996,  0.15304642,\n",
       "        0.19999949,  0.2       ,  0.09999987,  0.19999996,  0.14169435,\n",
       "        0.08210996,  0.06438605,  0.19999999,  0.18453253,  0.2       ,\n",
       "        0.07422985])"
      ]
     },
     "execution_count": 16,
     "metadata": {},
     "output_type": "execute_result"
    }
   ],
   "source": [
    "w[abs(w) >= 1e-5]"
   ]
  },
  {
   "cell_type": "code",
   "execution_count": 17,
   "metadata": {
    "collapsed": false
   },
   "outputs": [
    {
     "data": {
      "text/plain": [
       "{'dual infeasibility': 6.415370711056419e-12,\n",
       " 'dual objective': -5.864418426975136,\n",
       " 'dual slack': 1.8029645422926242e-09,\n",
       " 'gap': 5.3435490931845726e-06,\n",
       " 'iterations': 23,\n",
       " 'primal infeasibility': 2.966097037479563e-13,\n",
       " 'primal objective': -5.864413083581532,\n",
       " 'primal slack': 2.4056396784483396e-10,\n",
       " 'relative gap': 9.111822474008166e-07,\n",
       " 's': <7501x1 matrix, tc='d'>,\n",
       " 'status': 'optimal',\n",
       " 'x': <3000x1 matrix, tc='d'>,\n",
       " 'y': <1x1 matrix, tc='d'>,\n",
       " 'z': <7501x1 matrix, tc='d'>}"
      ]
     },
     "execution_count": 17,
     "metadata": {},
     "output_type": "execute_result"
    }
   ],
   "source": [
    "sol"
   ]
  },
  {
   "cell_type": "code",
   "execution_count": 18,
   "metadata": {
    "collapsed": false
   },
   "outputs": [
    {
     "data": {
      "text/plain": [
       "'optimal'"
      ]
     },
     "execution_count": 18,
     "metadata": {},
     "output_type": "execute_result"
    }
   ],
   "source": [
    "sol['status']"
   ]
  },
  {
   "cell_type": "code",
   "execution_count": null,
   "metadata": {
    "collapsed": true
   },
   "outputs": [],
   "source": []
  }
 ],
 "metadata": {
  "kernelspec": {
   "display_name": "Python [conda root]",
   "language": "python",
   "name": "conda-root-py"
  },
  "language_info": {
   "codemirror_mode": {
    "name": "ipython",
    "version": 3
   },
   "file_extension": ".py",
   "mimetype": "text/x-python",
   "name": "python",
   "nbconvert_exporter": "python",
   "pygments_lexer": "ipython3",
   "version": "3.5.2"
  }
 },
 "nbformat": 4,
 "nbformat_minor": 1
}
