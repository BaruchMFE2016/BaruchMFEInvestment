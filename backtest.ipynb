{
 "cells": [
  {
   "cell_type": "code",
   "execution_count": 1,
   "metadata": {
    "collapsed": false
   },
   "outputs": [],
   "source": [
    "__author__ = 'Derek Qi'\n",
    "# Doing portfolio backtest and generates output\n",
    "\n",
    "import numpy as np\n",
    "import pandas as pd\n",
    "import matplotlib.pyplot as plt\n",
    "from datetime import datetime, timedelta\n",
    "from time import time\n",
    "import pickle\n",
    "import os\n",
    "import sklearn.preprocessing as pp\n",
    "\n",
    "from setup.univ_setup import *\n",
    "from factor_mining.combine_factors import *\n",
    "from factor_mining.factor_model_regression import *\n",
    "from factor_mining.factor_preprocessing import *\n",
    "\n",
    "from factor_model.stock_ret_est import GenReturn \n",
    "from GenPosition import *\n",
    "from backtest_main import *\n",
    "from performance_analysis.pa_core import *\n",
    "\n",
    "from factor_mining.factors.momentum import *\n",
    "\n",
    "from factor_mining.Mark0 import * # This is alpha file"
   ]
  },
  {
   "cell_type": "code",
   "execution_count": 2,
   "metadata": {
    "collapsed": false
   },
   "outputs": [
    {
     "name": "stdout",
     "output_type": "stream",
     "text": [
      "Setup R3000 universe\n",
      "use existing binary file\n",
      "0.513083 seconds\n"
     ]
    }
   ],
   "source": [
    "### universe setup ###\n",
    "print('Setup R3000 universe')\n",
    "datadir = '/home/derek-qi/Documents/R3000_Data/data/r3000/'\n",
    "start = time()\n",
    "if os.path.exists(datadir + 'univ.pkl'):\n",
    "    print('use existing binary file')\n",
    "    with open(datadir + 'univ.pkl', 'rb') as univ_fh:\n",
    "        univ = pickle.load(univ_fh)\n",
    "    \n",
    "else:\n",
    "    print('construct from csv')\n",
    "    big_table_dir = datadir + 'big_table_full_v3.csv'\n",
    "    univ = univ_setup(big_table_dir)\n",
    "    filt_by_name(univ) # This is fucking slow！\n",
    "    with open(datadir + 'univ.pkl','wb') as fh:\n",
    "        pickle.dump(univ, fh)\n",
    "end = time()\n",
    "print('%f seconds' % (end - start))"
   ]
  },
  {
   "cell_type": "code",
   "execution_count": 4,
   "metadata": {
    "collapsed": false
   },
   "outputs": [
    {
     "name": "stdout",
     "output_type": "stream",
     "text": [
      "Calculate factors\n",
      "Scale each factor\n"
     ]
    },
    {
     "name": "stderr",
     "output_type": "stream",
     "text": [
      "/home/derek-qi/anaconda3/lib/python3.5/site-packages/pandas/core/indexing.py:465: SettingWithCopyWarning: \n",
      "A value is trying to be set on a copy of a slice from a DataFrame.\n",
      "Try using .loc[row_indexer,col_indexer] = value instead\n",
      "\n",
      "See the caveats in the documentation: http://pandas.pydata.org/pandas-docs/stable/indexing.html#indexing-view-versus-copy\n",
      "  self.obj[item] = s\n"
     ]
    },
    {
     "name": "stdout",
     "output_type": "stream",
     "text": [
      "Winsorize with +/- 3 std\n",
      "Done\n"
     ]
    }
   ],
   "source": [
    "### model configuration ###\n",
    "print('Calculate factors')\n",
    "# define and calculate all factors\n",
    "factors = alpha_four_factors(univ)\n",
    "# concat into factor exposure matrices\n",
    "factor_exp_mat = combine_factors(factors)\n",
    "# Preprocessing factor expsure matrices\n",
    "print('Scale each factor')\n",
    "factor_exp_mat = process_batch(factor_exp_mat, pp.scale)\n",
    "print('Winsorize with +/- 3 std')\n",
    "factor_exp_mat = process_batch(factor_exp_mat, winsorize_std)\n",
    "print('Done')"
   ]
  },
  {
   "cell_type": "code",
   "execution_count": 5,
   "metadata": {
    "collapsed": false
   },
   "outputs": [],
   "source": [
    "# const setup\n",
    "factor_names = [k for k in factors.keys()]\n",
    "N_f = len(factor_names)\n",
    "datelst = sorted(factor_exp_mat.keys())\n",
    "N_T = len(datelst)"
   ]
  },
  {
   "cell_type": "code",
   "execution_count": null,
   "metadata": {
    "collapsed": true
   },
   "outputs": [],
   "source": [
    "# Run backtest\n",
    "# Calc stock returns\n",
    "rebal = 1\n",
    "ret_series = log_return(univ, -rebal)"
   ]
  },
  {
   "cell_type": "code",
   "execution_count": null,
   "metadata": {
    "collapsed": false
   },
   "outputs": [
    {
     "name": "stdout",
     "output_type": "stream",
     "text": [
      "Start backtest from 2015/01/01 to 2015/12/31\n",
      "2015-01-02 00:00:00\n",
      "Pool size: 559\n",
      "        ticker    weight   log_ret\n",
      "0    X1288453D  0.200004  0.078904\n",
      "12         ABC  0.067904  0.027691\n",
      "31         ALL  0.011251  0.004269\n",
      "163        DRI  0.007188  0.034346\n",
      "275       JACK  0.025608  0.060300\n",
      "293         KR  0.005740  0.035716\n",
      "307        LUV  0.001276 -0.045529\n",
      "321        MHK  0.006153  0.024161\n",
      "383         PL  0.025003  0.000861\n",
      "395        RAX  0.115307 -0.005512\n",
      "405        RHI  0.053404  0.011679\n",
      "421       SBAC  0.015894 -0.001082\n",
      "422        SBH  0.036892 -0.024906\n",
      "424       SCSS  0.007552  0.039764\n",
      "435        SHW  0.015310  0.044639\n",
      "464        TGT  0.005506  0.014497\n",
      "493       ULTA  0.200004  0.036613\n",
      "546       ZLTQ  0.200004  0.086233\n",
      "Period log pnl: 0.044503\n",
      "2015-01-09 00:00:00\n",
      "Pool size: 790\n",
      "        ticker    weight   log_ret\n",
      "0    X1288453D  0.024078  0.015683\n",
      "24         AEC  0.004333  0.026995\n",
      "52        ANAC  0.180838 -0.001798\n",
      "55        ANGO  0.003409 -0.004758\n",
      "80        AVID  0.185494 -0.048790\n",
      "107       BJRI  0.000236 -0.097691\n",
      "209       DENN  0.016161  0.091997\n",
      "559        RAX  0.118592 -0.022574\n",
      "561       RCPT  0.199995 -0.110631\n",
      "595       SAIC  0.010241  0.050591\n",
      "652       TASR  0.200000 -0.035254\n",
      "700       ULTA  0.031901 -0.014161\n",
      "704       UTHR  0.024722  0.089586\n",
      "Period log pnl: -0.037006\n",
      "2015-01-16 00:00:00\n",
      "Pool size: 771\n",
      "    ticker    weight   log_ret\n",
      "23     AEC  0.200002 -0.021780\n",
      "49    ANAC  0.200002  0.024005\n",
      "56     ARE  0.015045  0.017427\n",
      "70     AVB  0.013337 -0.001002\n",
      "200   DENN  0.005194 -0.009009\n",
      "204    DFT  0.003314  0.025441\n",
      "295    GEO  0.017413  0.027329\n",
      "410     LO  0.002566  0.012344\n",
      "434   MELI  0.023378  0.064659\n",
      "442     MO  0.025393  0.021261\n",
      "527     PL  0.007464  0.002290\n",
      "551    RAX  0.200002  0.037136\n",
      "639   TASR  0.200002  0.085005\n",
      "686   ULTA  0.003326  0.042412\n",
      "691   UTHR  0.028514  0.029403\n",
      "720    WGL  0.055046  0.016933\n",
      "Period log pnl: 0.029647\n",
      "2015-01-23 00:00:00\n",
      "Pool size: 679\n",
      "    ticker    weight   log_ret\n",
      "22     AEC  0.001197 -0.002806\n",
      "23     AEE  0.001813 -0.022923\n",
      "27     AEP  0.027588 -0.026861\n",
      "45    ANAC  0.165213  0.096241\n",
      "133    CMS  0.012171  0.004782\n",
      "174    DFT  0.163743 -0.004285\n",
      "191     ED  0.022956 -0.015612\n",
      "195    EIX  0.012735 -0.003517\n",
      "204     ES  0.028539 -0.004666\n",
      "220    FAF  0.042224 -0.014009\n",
      "318    ITC  0.012830 -0.031696\n",
      "322   JACK  0.011983  0.006983\n",
      "342     KR  0.048109  0.015911\n",
      "353     LO  0.036889 -0.006229\n",
      "413      O  0.020174  0.017715\n",
      "452     PL  0.048164  0.000000\n",
      "460    PNW  0.093385 -0.020831\n",
      "462    POM  0.028728  0.002187\n",
      "473    RAI  0.044383 -0.015479\n",
      "475    RAX  0.071568 -0.059787\n",
      "537     SO  0.037008 -0.029338\n",
      "557   TASR  0.011618 -0.021971\n",
      "561    TDG  0.002937 -0.013865\n",
      "566   TFSL  0.022951 -0.014162\n",
      "616    VTR  0.016573 -0.007738\n",
      "649    XEL  0.014523 -0.006111\n",
      "Period log pnl: 0.005141\n",
      "2015-01-30 00:00:00\n",
      "Pool size: 786\n",
      "        ticker    weight   log_ret\n",
      "0    X1288453D  0.004891  0.001709\n",
      "6    X9876544D  0.033801  0.014089\n",
      "30         AEP  0.012955 -0.051514\n",
      "100       BNCL  0.031515  0.055871\n",
      "107        BRX  0.000191 -0.026545\n",
      "109       BURL  0.013526  0.046985\n",
      "131       CEMP  0.143926 -0.045731\n",
      "235         ES  0.065155 -0.034224\n",
      "333        HTA  0.016948 -0.056920\n",
      "356       INGN  0.095840  0.000000\n",
      "390         KR  0.078861  0.037800\n",
      "404         LO  0.056460  0.006380\n",
      "446       MSGN  0.058034  0.030680\n",
      "472        NNN  0.004105 -0.047076\n",
      "480       NUVA  0.040169  0.008813\n",
      "518        PCL  0.012433  0.004036\n",
      "529         PL  0.141158  0.000000\n",
      "535        PMT  0.002413 -0.052909\n",
      "539        POM  0.086996 -0.009517\n",
      "555       RCPT  0.013978 -0.021469\n",
      "594        SBY  0.045508  0.000641\n",
      "628       SRCL  0.027533 -0.008414\n",
      "744        WST  0.013605  0.033110\n",
      "Period log pnl: -0.003243\n",
      "2015-02-06 00:00:00\n",
      "Pool size: 820\n",
      "        ticker    weight   log_ret\n",
      "7    X9876544D  0.048456  0.002325\n",
      "107       BLUE  0.081918  0.051700\n",
      "138        CCI  0.017905  0.015345\n",
      "169        COL  0.022369  0.019990\n",
      "230        EFX  0.059863  0.082147\n",
      "355        HTS  0.021565  0.006118\n",
      "406       KITE  0.087467  0.037771\n",
      "414         KR  0.115349  0.018494\n",
      "419       LAMR  0.089772  0.009602\n",
      "428         LO  0.047184  0.019052\n",
      "470       MSGN  0.005583  0.007779\n",
      "508       NXTM  0.023849  0.002281\n",
      "532       OVAS  0.044635  0.083980\n",
      "559       PNRA  0.116890 -0.109044\n",
      "561        POM  0.115884 -0.004791\n",
      "634        SFM  0.020209  0.038783\n",
      "677        SYF  0.004153  0.020329\n",
      "737       UTHR  0.076950  0.062815\n",
      "Period log pnl: 0.013564\n",
      "2015-02-13 00:00:00\n",
      "Pool size: 777\n",
      "        ticker    weight   log_ret\n",
      "8    X9876566D  0.059829 -0.018791\n",
      "62         ARR  0.019613 -0.006411\n",
      "99        BLUE  0.189451  0.028477\n",
      "152        COL  0.002138  0.022821\n",
      "202        DRI  0.008718  0.007908\n",
      "236       EXAM  0.000735 -0.023542\n",
      "266       FRAN  0.062753 -0.054067\n",
      "304        HIG  0.026623  0.004836\n",
      "370       KITE  0.138726  0.003350\n",
      "377         KR  0.018167 -0.000963\n",
      "418        MIK  0.104971  0.014108\n",
      "462        NOC  0.010142  0.029825\n",
      "493       OVAS  0.085811  0.038292\n",
      "528        POM  0.030278  0.006627\n",
      "546        RAX  0.028629 -0.012678\n",
      "548       RCPT  0.013413  0.079624\n",
      "550       RDUS  0.200003 -0.092931\n",
      "Period log pnl: -0.011183\n",
      "2015-02-20 00:00:00\n"
     ]
    }
   ],
   "source": [
    "dstart = datetime(2015, 1, 1)\n",
    "dend = datetime(2015, 12, 31)\n",
    "print('Start backtest from %s to %s' % (dstart.strftime('%Y/%m/%d'), dend.strftime('%Y/%m/%d')))\n",
    "ts = time()\n",
    "# ptfl_fin, pnl = backtest_batch(univ, factor_exp_mat, ret_series, dstart, dend, silent=False)\n",
    "ptfl_fin, pnl = backtest_multi_period_rebalance(univ, factor_exp_mat, ret_series, dstart, dend, rebal, silent=False)\n",
    "te = time()\n",
    "print(te - ts)"
   ]
  },
  {
   "cell_type": "code",
   "execution_count": null,
   "metadata": {
    "collapsed": false,
    "scrolled": true
   },
   "outputs": [],
   "source": [
    "pnl.columns = ['Date', 'Pnl']\n",
    "# simple_pa(pnl)\n",
    "pmfc = (cagr(pnl), vol(pnl), sharpe_ratio(pnl), max_drawdown(pnl), drawdown_length(pnl))\n",
    "print('CAGR:%f \\nVolatility:%f\\nPeriodical_Sharpe_ratio:%f\\nMax drawdown: %f\\nDrawdown length: %f\\n' % pmfc)\n",
    "\n",
    "plot_nav(pnl)"
   ]
  }
 ],
 "metadata": {
  "anaconda-cloud": {},
  "kernelspec": {
   "display_name": "Python [conda root]",
   "language": "python",
   "name": "conda-root-py"
  },
  "language_info": {
   "codemirror_mode": {
    "name": "ipython",
    "version": 3
   },
   "file_extension": ".py",
   "mimetype": "text/x-python",
   "name": "python",
   "nbconvert_exporter": "python",
   "pygments_lexer": "ipython3",
   "version": "3.5.2"
  }
 },
 "nbformat": 4,
 "nbformat_minor": 1
}
