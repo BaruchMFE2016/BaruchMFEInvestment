{
 "cells": [
  {
   "cell_type": "code",
   "execution_count": 1,
   "metadata": {
    "collapsed": false
   },
   "outputs": [],
   "source": [
    "import numpy as np\n",
    "import pandas as pd\n",
    "import matplotlib.pyplot as plt\n",
    "from datetime import datetime, timedelta\n",
    "\n",
    "from setup.univ_setup import *\n",
    "from setup.utils import *\n",
    "from factor_mining.combine_factors import *\n",
    "from factor_mining.factor_preprocessing import *\n",
    "from performance_analysis.pa_core import *\n",
    "\n",
    "from backtest.BackTest import *\n",
    "from backtest.regression_portfolio import *\n",
    "from backtest.ptfl_optim import PtflOptimizer\n",
    "\n",
    "from factor_mining.Mark0 import * # This is alpha file"
   ]
  },
  {
   "cell_type": "code",
   "execution_count": 2,
   "metadata": {
    "collapsed": false
   },
   "outputs": [
    {
     "name": "stdout",
     "output_type": "stream",
     "text": [
      "Setup R3000 universe\n",
      "use existing binary file\n",
      "CPU times: user 2.84 s, sys: 228 ms, total: 3.06 s\n",
      "Wall time: 3.19 s\n"
     ]
    }
   ],
   "source": [
    "%%time\n",
    "### universe setup ###\n",
    "datadir = '/home/derek-qi/Documents/R3000_Data/data/r3000/'\n",
    "univ = univ_setup(datadir, version=5, wFund=True)\n",
    "filt_na(univ)\n",
    "\n",
    "# import warnings\n",
    "# warnings.filterwarnings(\"ignore\")"
   ]
  },
  {
   "cell_type": "code",
   "execution_count": 3,
   "metadata": {
    "collapsed": false
   },
   "outputs": [
    {
     "name": "stdout",
     "output_type": "stream",
     "text": [
      "Calculate factors\n",
      "CPU times: user 55.6 s, sys: 748 ms, total: 56.3 s\n",
      "Wall time: 56.4 s\n"
     ]
    }
   ],
   "source": [
    "%%time\n",
    "### model configuration ###\n",
    "print('Calculate factors')\n",
    "# define and calculate all factors\n",
    "factors = alpha_wFund_00(univ)\n",
    "\n",
    "factor_names = list(factors.keys())\n",
    "factors_dict = factors\n",
    "factor_names = [k for k in factors_dict.keys()]\n",
    "N_f = len(factor_names)\n",
    "datelst = sorted(factors_dict[factor_names[0]].keys())\n",
    "\n",
    "# concat into factor exposure matrices\n",
    "factor_exp_mat = combine_factors(factors)\n",
    "filt_na(factor_exp_mat)"
   ]
  },
  {
   "cell_type": "code",
   "execution_count": 4,
   "metadata": {
    "collapsed": false
   },
   "outputs": [
    {
     "name": "stdout",
     "output_type": "stream",
     "text": [
      "Filt the untradables\n",
      "Done\n",
      "Standard scale each factor\n",
      "Winsorize with +/- 3 std\n",
      "Done\n"
     ]
    }
   ],
   "source": [
    "### Filt the universe ###\n",
    "print('Filt the untradables')\n",
    "\n",
    "filt_byval(univ, 'in_r3000', 0)\n",
    "filt_byval(univ, 'price', 10)\n",
    "# filt_byval(univ, 'not_in_MA', 0)\n",
    "filt_byval(univ, 'volume', 300000)\n",
    "filt_byval(univ, 'div_ratio', 10, keep='below')\n",
    "\n",
    "factor_exp_mat = merge(factor_exp_mat, univ, right_cols=['f_log_ret_1'])\n",
    "print('Done')\n",
    "\n",
    "# Preprocessing factor expsure matrices\n",
    "print('Standard scale each factor')\n",
    "factor_exp_mat = process_batch(factor_exp_mat, standardize, factor_names=factor_names)\n",
    "print('Winsorize with +/- 3 std')\n",
    "factor_exp_mat = process_batch(factor_exp_mat, winsorize_std, factor_names=factor_names)\n",
    "print('Done')"
   ]
  },
  {
   "cell_type": "code",
   "execution_count": 6,
   "metadata": {
    "collapsed": false
   },
   "outputs": [
    {
     "name": "stdout",
     "output_type": "stream",
     "text": [
      "2014-01-07T00:00:00.000000000\n",
      "2014-01-14T00:00:00.000000000\n",
      "2014-01-21T00:00:00.000000000\n",
      "2014-01-28T00:00:00.000000000\n",
      "2014-02-04T00:00:00.000000000\n",
      "2014-02-11T00:00:00.000000000\n",
      "2014-02-18T00:00:00.000000000\n",
      "2014-02-25T00:00:00.000000000\n",
      "2014-03-04T00:00:00.000000000\n",
      "2014-03-11T00:00:00.000000000\n",
      "2014-03-18T00:00:00.000000000\n",
      "2014-03-25T00:00:00.000000000\n",
      "2014-04-01T00:00:00.000000000\n",
      "2014-04-08T00:00:00.000000000\n",
      "2014-04-15T00:00:00.000000000\n",
      "2014-04-22T00:00:00.000000000\n",
      "2014-04-29T00:00:00.000000000\n",
      "2014-05-06T00:00:00.000000000\n",
      "2014-05-13T00:00:00.000000000\n",
      "2014-05-20T00:00:00.000000000\n",
      "2014-05-27T00:00:00.000000000\n",
      "2014-06-03T00:00:00.000000000\n",
      "2014-06-10T00:00:00.000000000\n",
      "2014-06-17T00:00:00.000000000\n",
      "2014-06-24T00:00:00.000000000\n",
      "2014-07-01T00:00:00.000000000\n",
      "2014-07-08T00:00:00.000000000\n",
      "2014-07-15T00:00:00.000000000\n",
      "2014-07-22T00:00:00.000000000\n",
      "2014-07-29T00:00:00.000000000\n",
      "2014-08-05T00:00:00.000000000\n",
      "2014-08-12T00:00:00.000000000\n",
      "2014-08-19T00:00:00.000000000\n",
      "2014-08-26T00:00:00.000000000\n",
      "2014-09-02T00:00:00.000000000\n",
      "2014-09-09T00:00:00.000000000\n",
      "2014-09-16T00:00:00.000000000\n",
      "2014-09-23T00:00:00.000000000\n",
      "2014-09-30T00:00:00.000000000\n",
      "2014-10-07T00:00:00.000000000\n",
      "2014-10-14T00:00:00.000000000\n",
      "2014-10-21T00:00:00.000000000\n",
      "2014-10-28T00:00:00.000000000\n",
      "2014-11-04T00:00:00.000000000\n",
      "2014-11-11T00:00:00.000000000\n",
      "2014-11-18T00:00:00.000000000\n",
      "2014-11-25T00:00:00.000000000\n",
      "2014-12-02T00:00:00.000000000\n",
      "2014-12-09T00:00:00.000000000\n",
      "2014-12-16T00:00:00.000000000\n",
      "2014-12-23T00:00:00.000000000\n",
      "2014-12-30T00:00:00.000000000\n",
      "2015-01-06T00:00:00.000000000\n",
      "2015-01-13T00:00:00.000000000\n",
      "2015-01-20T00:00:00.000000000\n",
      "2015-01-27T00:00:00.000000000\n",
      "2015-02-03T00:00:00.000000000\n",
      "2015-02-10T00:00:00.000000000\n",
      "2015-02-17T00:00:00.000000000\n",
      "2015-02-24T00:00:00.000000000\n",
      "2015-03-03T00:00:00.000000000\n",
      "2015-03-10T00:00:00.000000000\n",
      "2015-03-17T00:00:00.000000000\n",
      "2015-03-24T00:00:00.000000000\n",
      "2015-03-31T00:00:00.000000000\n",
      "2015-04-07T00:00:00.000000000\n",
      "2015-04-14T00:00:00.000000000\n",
      "2015-04-21T00:00:00.000000000\n",
      "2015-04-28T00:00:00.000000000\n",
      "2015-05-05T00:00:00.000000000\n",
      "2015-05-12T00:00:00.000000000\n",
      "2015-05-19T00:00:00.000000000\n",
      "2015-05-26T00:00:00.000000000\n",
      "2015-06-02T00:00:00.000000000\n",
      "2015-06-09T00:00:00.000000000\n",
      "2015-06-16T00:00:00.000000000\n",
      "2015-06-23T00:00:00.000000000\n",
      "2015-06-30T00:00:00.000000000\n",
      "2015-07-07T00:00:00.000000000\n",
      "2015-07-14T00:00:00.000000000\n",
      "2015-07-21T00:00:00.000000000\n",
      "2015-07-28T00:00:00.000000000\n",
      "2015-08-04T00:00:00.000000000\n",
      "2015-08-11T00:00:00.000000000\n",
      "2015-08-18T00:00:00.000000000\n",
      "2015-08-25T00:00:00.000000000\n",
      "2015-09-01T00:00:00.000000000\n",
      "2015-09-08T00:00:00.000000000\n",
      "2015-09-15T00:00:00.000000000\n",
      "2015-09-22T00:00:00.000000000\n",
      "2015-09-29T00:00:00.000000000\n",
      "2015-10-06T00:00:00.000000000\n",
      "2015-10-13T00:00:00.000000000\n",
      "2015-10-20T00:00:00.000000000\n",
      "2015-10-27T00:00:00.000000000\n",
      "2015-11-03T00:00:00.000000000\n",
      "2015-11-10T00:00:00.000000000\n",
      "2015-11-17T00:00:00.000000000\n",
      "2015-11-24T00:00:00.000000000\n",
      "2015-12-01T00:00:00.000000000\n",
      "2015-12-08T00:00:00.000000000\n",
      "2015-12-15T00:00:00.000000000\n",
      "2015-12-22T00:00:00.000000000\n",
      "2015-12-29T00:00:00.000000000\n",
      "2016-01-05T00:00:00.000000000\n",
      "2016-01-12T00:00:00.000000000\n",
      "2016-01-19T00:00:00.000000000\n",
      "2016-01-26T00:00:00.000000000\n",
      "2016-02-02T00:00:00.000000000\n",
      "2016-02-09T00:00:00.000000000\n",
      "2016-02-16T00:00:00.000000000\n",
      "2016-02-23T00:00:00.000000000\n",
      "2016-03-01T00:00:00.000000000\n",
      "2016-03-08T00:00:00.000000000\n",
      "2016-03-15T00:00:00.000000000\n",
      "2016-03-22T00:00:00.000000000\n",
      "2016-03-29T00:00:00.000000000\n",
      "2016-04-05T00:00:00.000000000\n",
      "2016-04-12T00:00:00.000000000\n",
      "2016-04-19T00:00:00.000000000\n",
      "2016-04-26T00:00:00.000000000\n",
      "2016-05-03T00:00:00.000000000\n",
      "2016-05-10T00:00:00.000000000\n",
      "2016-05-17T00:00:00.000000000\n",
      "2016-05-24T00:00:00.000000000\n",
      "2016-05-31T00:00:00.000000000\n",
      "2016-06-07T00:00:00.000000000\n",
      "2016-06-14T00:00:00.000000000\n",
      "2016-06-21T00:00:00.000000000\n",
      "2016-06-28T00:00:00.000000000\n",
      "2016-07-05T00:00:00.000000000\n",
      "2016-07-12T00:00:00.000000000\n",
      "2016-07-19T00:00:00.000000000\n",
      "2016-07-26T00:00:00.000000000\n",
      "2016-08-02T00:00:00.000000000\n",
      "2016-08-09T00:00:00.000000000\n",
      "2016-08-16T00:00:00.000000000\n",
      "2016-08-23T00:00:00.000000000\n",
      "2016-08-30T00:00:00.000000000\n",
      "2016-09-06T00:00:00.000000000\n",
      "2016-09-13T00:00:00.000000000\n",
      "2016-09-20T00:00:00.000000000\n",
      "2016-09-27T00:00:00.000000000\n",
      "2016-10-04T00:00:00.000000000\n",
      "2016-10-11T00:00:00.000000000\n",
      "2016-10-18T00:00:00.000000000\n",
      "2016-10-25T00:00:00.000000000\n",
      "2016-11-01T00:00:00.000000000\n",
      "2016-11-08T00:00:00.000000000\n",
      "2016-11-15T00:00:00.000000000\n",
      "2016-11-22T00:00:00.000000000\n",
      "2016-11-29T00:00:00.000000000\n",
      "2016-12-06T00:00:00.000000000\n",
      "2016-12-13T00:00:00.000000000\n",
      "2016-12-20T00:00:00.000000000\n",
      "2016-12-27T00:00:00.000000000\n",
      "CPU times: user 4h 44min 24s, sys: 3min 34s, total: 4h 47min 58s\n",
      "Wall time: 2h 25min\n"
     ]
    }
   ],
   "source": [
    "%%time\n",
    "start_date = np.datetime64('2014-01-01')\n",
    "end_date = np.datetime64('2016-12-31')\n",
    "\n",
    "factor_names = list(factors.keys())\n",
    "optimizr = PtflOptimizer(U=0.1, L=-0.1)\n",
    "spcalc = RegressionPtflSpcalc(all_factor_names=factor_names, optimzr=optimizr, smoothing='simple')\n",
    "bt = BackTest(univ=univ, factor_exp_mat=factor_exp_mat, daterange=[start_date, end_date], sp_calc=spcalc, rebal=1)\n",
    "ptfl_lst, pnl_lst = bt.calc_pnl(silence=True, has_short=True)"
   ]
  },
  {
   "cell_type": "code",
   "execution_count": 7,
   "metadata": {
    "collapsed": false
   },
   "outputs": [
    {
     "data": {
      "image/png": "[encoded data removed]",
      "text/plain": [
       "<matplotlib.figure.Figure at 0x7fbcdbe02ef0>"
      ]
     },
     "metadata": {},
     "output_type": "display_data"
    }
   ],
   "source": [
    "fr_series = np.stack(fr['factor_returns'] for fr in spcalc.all_factor_returns.values())\n",
    "window = 30\n",
    "ck = np.ones((window,)) / window\n",
    "for c in range(6):\n",
    "    fr_series[:,c] = np.convolve(ck, fr_series[:,c])[window-1:]\n",
    "    plt.plot(fr_series[:,c], label=spcalc.all_factor_names[c])\n",
    "plt.legend(loc='center right', bbox_to_anchor=(1.5, 0.5))\n",
    "plt.show()"
   ]
  },
  {
   "cell_type": "code",
   "execution_count": 8,
   "metadata": {
    "collapsed": false
   },
   "outputs": [
    {
     "name": "stdout",
     "output_type": "stream",
     "text": [
      "CAGR :\t 0.179051131962\n",
      "Volatility :\t 0.327889648684\n",
      "Sharpe :\t 0.502333605835\n",
      "Max_Drawdown :\t 0.358740882524\n",
      "Drawdown_Length :\t 81\n"
     ]
    }
   ],
   "source": [
    "bt.calc_pa(silent=False)"
   ]
  },
  {
   "cell_type": "code",
   "execution_count": 9,
   "metadata": {
    "collapsed": false
   },
   "outputs": [
    {
     "data": {
      "image/png": "[encoded data removed]",
      "text/plain": [
       "<matplotlib.figure.Figure at 0x7fbcd0ec4ac8>"
      ]
     },
     "metadata": {},
     "output_type": "display_data"
    }
   ],
   "source": [
    "dlst = sorted(univ.keys())\n",
    "dlst = [d for d in dlst if d >= start_date and d <= end_date]\n",
    "plt.plot(dlst, np.cumsum(pnl_lst['pnl']))\n",
    "plt.show()"
   ]
  },
  {
   "cell_type": "code",
   "execution_count": 10,
   "metadata": {
    "collapsed": false
   },
   "outputs": [],
   "source": [
    "tstamp = str(datetime.now())\n",
    "bt.pnl_lst.to_csv('output/pnl_%s.csv' % tstamp)"
   ]
  },
  {
   "cell_type": "code",
   "execution_count": 11,
   "metadata": {
    "collapsed": false
   },
   "outputs": [],
   "source": [
    "ptfl_lst = pd.concat(bt.ptfl_lst)\n",
    "pp = pd.pivot_table(ptfl_lst, values='weight', columns='ticker', index='date')\n",
    "pp.to_csv('output/portfolio_table_%s.csv' % tstamp)"
   ]
  },
  {
   "cell_type": "code",
   "execution_count": 12,
   "metadata": {
    "collapsed": false
   },
   "outputs": [
    {
     "data": {
      "text/html": [
       "<div>\n",
       "<style>\n",
       "    .dataframe thead tr:only-child th {\n",
       "        text-align: right;\n",
       "    }\n",
       "\n",
       "    .dataframe thead th {\n",
       "        text-align: left;\n",
       "    }\n",
       "\n",
       "    .dataframe tbody tr th {\n",
       "        vertical-align: top;\n",
       "    }\n",
       "</style>\n",
       "<table border=\"1\" class=\"dataframe\">\n",
       "  <thead>\n",
       "    <tr style=\"text-align: right;\">\n",
       "      <th></th>\n",
       "      <th>date</th>\n",
       "      <th>pnl</th>\n",
       "    </tr>\n",
       "  </thead>\n",
       "  <tbody>\n",
       "    <tr>\n",
       "      <th>84</th>\n",
       "      <td>2015-08-18</td>\n",
       "      <td>-0.187932</td>\n",
       "    </tr>\n",
       "    <tr>\n",
       "      <th>55</th>\n",
       "      <td>2015-01-27</td>\n",
       "      <td>-0.137176</td>\n",
       "    </tr>\n",
       "    <tr>\n",
       "      <th>90</th>\n",
       "      <td>2015-09-29</td>\n",
       "      <td>-0.109101</td>\n",
       "    </tr>\n",
       "    <tr>\n",
       "      <th>67</th>\n",
       "      <td>2015-04-21</td>\n",
       "      <td>-0.086659</td>\n",
       "    </tr>\n",
       "    <tr>\n",
       "      <th>145</th>\n",
       "      <td>2016-10-18</td>\n",
       "      <td>-0.083875</td>\n",
       "    </tr>\n",
       "    <tr>\n",
       "      <th>150</th>\n",
       "      <td>2016-11-22</td>\n",
       "      <td>-0.064505</td>\n",
       "    </tr>\n",
       "    <tr>\n",
       "      <th>94</th>\n",
       "      <td>2015-10-27</td>\n",
       "      <td>-0.060215</td>\n",
       "    </tr>\n",
       "    <tr>\n",
       "      <th>134</th>\n",
       "      <td>2016-08-02</td>\n",
       "      <td>-0.057657</td>\n",
       "    </tr>\n",
       "    <tr>\n",
       "      <th>8</th>\n",
       "      <td>2014-03-04</td>\n",
       "      <td>-0.056528</td>\n",
       "    </tr>\n",
       "    <tr>\n",
       "      <th>3</th>\n",
       "      <td>2014-01-28</td>\n",
       "      <td>-0.056035</td>\n",
       "    </tr>\n",
       "  </tbody>\n",
       "</table>\n",
       "</div>"
      ],
      "text/plain": [
       "          date       pnl\n",
       "84  2015-08-18 -0.187932\n",
       "55  2015-01-27 -0.137176\n",
       "90  2015-09-29 -0.109101\n",
       "67  2015-04-21 -0.086659\n",
       "145 2016-10-18 -0.083875\n",
       "150 2016-11-22 -0.064505\n",
       "94  2015-10-27 -0.060215\n",
       "134 2016-08-02 -0.057657\n",
       "8   2014-03-04 -0.056528\n",
       "3   2014-01-28 -0.056035"
      ]
     },
     "execution_count": 12,
     "metadata": {},
     "output_type": "execute_result"
    }
   ],
   "source": [
    "pnl_lst.iloc[np.argsort(pnl_lst.pnl)[:10],:]"
   ]
  },
  {
   "cell_type": "code",
   "execution_count": 20,
   "metadata": {
    "collapsed": false
   },
   "outputs": [],
   "source": [
    "w = pp.iloc[84,:]"
   ]
  },
  {
   "cell_type": "code",
   "execution_count": 28,
   "metadata": {
    "collapsed": false
   },
   "outputs": [],
   "source": [
    "w.dropna(inplace=True)\n",
    "ww = w[w != 0]"
   ]
  },
  {
   "cell_type": "code",
   "execution_count": 29,
   "metadata": {
    "collapsed": false
   },
   "outputs": [
    {
     "data": {
      "text/plain": [
       "ticker\n",
       "AAPL UW Equity     0.053724\n",
       "BTUUQ UN Equity   -0.200001\n",
       "DYAX UQ Equity     0.200001\n",
       "FB UW Equity       0.168087\n",
       "GILD UW Equity     0.200001\n",
       "LL UN Equity      -0.063914\n",
       "PANW UN Equity     0.200001\n",
       "PRTA UW Equity     0.200001\n",
       "QLIK UW Equity     0.200001\n",
       "SPXC UN Equity    -0.200001\n",
       "TMUS UN Equity     0.078185\n",
       "TNET UN Equity    -0.036085\n",
       "UNH UN Equity      0.200001\n",
       "Name: 2015-08-18 00:00:00, dtype: float64"
      ]
     },
     "execution_count": 29,
     "metadata": {},
     "output_type": "execute_result"
    }
   ],
   "source": [
    "ww"
   ]
  },
  {
   "cell_type": "code",
   "execution_count": 24,
   "metadata": {
    "collapsed": false
   },
   "outputs": [],
   "source": [
    "univ_table = stack(univ)"
   ]
  },
  {
   "cell_type": "code",
   "execution_count": 27,
   "metadata": {
    "collapsed": false
   },
   "outputs": [],
   "source": [
    "t = univ_table[univ_table.date == np.datetime64('2015-08-18')]"
   ]
  },
  {
   "cell_type": "code",
   "execution_count": 58,
   "metadata": {
    "collapsed": false
   },
   "outputs": [
    {
     "data": {
      "text/plain": [
       "ticker\n",
       "AAPL UW Equity    -0.116004\n",
       "BTUUQ UN Equity    0.387447\n",
       "DYAX UQ Equity    -0.073411\n",
       "FB UW Equity      -0.136824\n",
       "GILD UW Equity    -0.132238\n",
       "LL UN Equity      -0.016173\n",
       "PANW UN Equity    -0.091918\n",
       "PRTA UW Equity    -0.139787\n",
       "QLIK UW Equity    -0.144291\n",
       "SPXC UN Equity    -0.158461\n",
       "TMUS UN Equity    -0.097620\n",
       "TNET UN Equity    -0.098571\n",
       "UNH UN Equity     -0.132009\n",
       "Name: f_log_ret_1, dtype: float64"
      ]
     },
     "execution_count": 58,
     "metadata": {},
     "output_type": "execute_result"
    }
   ],
   "source": [
    "ix = pd.DataFrame(ww).index.tolist()\n",
    "t.loc[ix,'f_log_ret_1']"
   ]
  },
  {
   "cell_type": "code",
   "execution_count": null,
   "metadata": {
    "collapsed": true
   },
   "outputs": [],
   "source": []
  }
 ],
 "metadata": {
  "anaconda-cloud": {},
  "kernelspec": {
   "display_name": "Python [conda root]",
   "language": "python",
   "name": "conda-root-py"
  },
  "language_info": {
   "codemirror_mode": {
    "name": "ipython",
    "version": 3
   },
   "file_extension": ".py",
   "mimetype": "text/x-python",
   "name": "python",
   "nbconvert_exporter": "python",
   "pygments_lexer": "ipython3",
   "version": "3.5.2"
  }
 },
 "nbformat": 4,
 "nbformat_minor": 1
}
