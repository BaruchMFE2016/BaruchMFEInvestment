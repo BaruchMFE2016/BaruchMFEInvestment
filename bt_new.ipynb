{
 "cells": [
  {
   "cell_type": "code",
   "execution_count": 1,
   "metadata": {
    "collapsed": false
   },
   "outputs": [],
   "source": [
    "import numpy as np\n",
    "import pandas as pd\n",
    "import matplotlib.pyplot as plt\n",
    "from datetime import datetime, timedelta\n",
    "from time import time\n",
    "import pickle\n",
    "import os\n",
    "\n",
    "from setup.univ_setup import *\n",
    "from setup.utils import *\n",
    "from factor_mining.combine_factors import *\n",
    "from factor_mining.factor_preprocessing import *\n",
    "# from performance_analysis.pa_core import *\n",
    "\n",
    "from backtest.BackTest import *\n",
    "from backtest.regression_portfolio import *\n",
    "\n",
    "from factor_mining.Mark0 import * # This is alpha file"
   ]
  },
  {
   "cell_type": "code",
   "execution_count": 2,
   "metadata": {
    "collapsed": false
   },
   "outputs": [
    {
     "name": "stdout",
     "output_type": "stream",
     "text": [
      "Setup R3000 universe\n",
      "use existing binary file\n",
      "0.429077 seconds\n",
      "Calculate factors\n",
      "Filt the untradables\n",
      "Done\n",
      "Scale each factor\n",
      "Winsorize with +/- 3 std\n",
      "Done\n"
     ]
    }
   ],
   "source": [
    "### universe setup ###\n",
    "print('Setup R3000 universe')\n",
    "datadir = '/home/derek-qi/Documents/R3000_Data/data/r3000/'\n",
    "start = time()\n",
    "if os.path.exists(datadir + 'univ.pkl'):\n",
    "    print('use existing binary file')\n",
    "    with open(datadir + 'univ.pkl', 'rb') as univ_fh:\n",
    "        univ = pickle.load(univ_fh)\n",
    "    \n",
    "else:\n",
    "    print('construct from csv')\n",
    "    big_table_dir = datadir + 'big_table_full_v4.csv'\n",
    "    univ = univ_setup(big_table_dir)\n",
    "    # filt_by_name(univ) # This is slow！\n",
    "    with open(datadir + 'univ.pkl','wb') as fh:\n",
    "        pickle.dump(univ, fh)\n",
    "end = time()\n",
    "print('%f seconds' % (end - start))\n",
    "\n",
    "filt_na(univ)\n",
    "import warnings\n",
    "warnings.filterwarnings(\"ignore\")\n",
    "\n",
    "### model configuration ###\n",
    "print('Calculate factors')\n",
    "# define and calculate all factors\n",
    "factors = alpha_four_factors(univ)\n",
    "factor_names = list(factors.keys())\n",
    "\n",
    "# concat into factor exposure matrices\n",
    "factor_exp_mat = combine_factors(factors)\n",
    "filt_na(factor_exp_mat)\n",
    "\n",
    "### Filt the universe ###\n",
    "print('Filt the untradables')\n",
    "\n",
    "filt_byval(univ, 'in_r3000', 0)\n",
    "filt_byval(univ, 'price', 10)\n",
    "filt_byval(univ, 'not_in_MA', 0)\n",
    "filt_byval(univ, 'volume', 1500000)\n",
    "factor_exp_mat = merge(factor_exp_mat, univ, right_cols=['f_log_ret_1', 'industry'])\n",
    "print('Done')\n",
    "\n",
    "# Preprocessing factor expsure matrices\n",
    "print('Scale each factor')\n",
    "factor_exp_mat = process_batch(factor_exp_mat, standardize, factor_names=factor_names)\n",
    "print('Winsorize with +/- 3 std')\n",
    "factor_exp_mat = process_batch(factor_exp_mat, winsorize_std, factor_names=factor_names)\n",
    "print('Done')"
   ]
  },
  {
   "cell_type": "code",
   "execution_count": 3,
   "metadata": {
    "collapsed": false
   },
   "outputs": [
    {
     "name": "stdout",
     "output_type": "stream",
     "text": [
      "2014-01-03 00:00:00\n",
      "2014-01-10 00:00:00\n",
      "2014-01-17 00:00:00\n",
      "2014-01-24 00:00:00\n",
      "2014-01-31 00:00:00\n",
      "2014-02-07 00:00:00\n",
      "2014-02-14 00:00:00\n",
      "2014-02-21 00:00:00\n",
      "2014-02-28 00:00:00\n",
      "2014-03-07 00:00:00\n",
      "2014-03-14 00:00:00\n",
      "2014-03-21 00:00:00\n",
      "2014-03-28 00:00:00\n",
      "2014-04-04 00:00:00\n",
      "2014-04-11 00:00:00\n",
      "2014-04-18 00:00:00\n",
      "2014-04-25 00:00:00\n",
      "2014-05-02 00:00:00\n",
      "2014-05-09 00:00:00\n",
      "2014-05-16 00:00:00\n",
      "2014-05-23 00:00:00\n",
      "2014-05-30 00:00:00\n",
      "2014-06-06 00:00:00\n",
      "2014-06-13 00:00:00\n",
      "2014-06-20 00:00:00\n",
      "2014-06-27 00:00:00\n",
      "2014-07-04 00:00:00\n",
      "2014-07-11 00:00:00\n",
      "2014-07-18 00:00:00\n",
      "2014-07-25 00:00:00\n",
      "2014-08-01 00:00:00\n",
      "2014-08-08 00:00:00\n",
      "2014-08-15 00:00:00\n",
      "2014-08-22 00:00:00\n",
      "2014-08-29 00:00:00\n",
      "2014-09-05 00:00:00\n",
      "2014-09-12 00:00:00\n",
      "2014-09-19 00:00:00\n",
      "2014-09-26 00:00:00\n",
      "2014-10-03 00:00:00\n",
      "2014-10-10 00:00:00\n",
      "2014-10-17 00:00:00\n",
      "2014-10-24 00:00:00\n",
      "2014-10-31 00:00:00\n",
      "2014-11-07 00:00:00\n",
      "2014-11-14 00:00:00\n",
      "2014-11-21 00:00:00\n",
      "2014-11-28 00:00:00\n",
      "2014-12-05 00:00:00\n",
      "2014-12-12 00:00:00\n",
      "2014-12-19 00:00:00\n",
      "2014-12-26 00:00:00\n",
      "2015-01-02 00:00:00\n",
      "2015-01-09 00:00:00\n",
      "2015-01-16 00:00:00\n",
      "2015-01-23 00:00:00\n",
      "2015-01-30 00:00:00\n",
      "2015-02-06 00:00:00\n",
      "2015-02-13 00:00:00\n",
      "2015-02-20 00:00:00\n",
      "2015-02-27 00:00:00\n",
      "2015-03-06 00:00:00\n",
      "2015-03-13 00:00:00\n",
      "2015-03-20 00:00:00\n",
      "2015-03-27 00:00:00\n",
      "2015-04-03 00:00:00\n",
      "2015-04-10 00:00:00\n",
      "2015-04-17 00:00:00\n",
      "2015-04-24 00:00:00\n",
      "2015-05-01 00:00:00\n",
      "2015-05-08 00:00:00\n",
      "2015-05-15 00:00:00\n",
      "2015-05-22 00:00:00\n",
      "2015-05-29 00:00:00\n",
      "2015-06-05 00:00:00\n",
      "2015-06-12 00:00:00\n",
      "2015-06-19 00:00:00\n",
      "2015-06-26 00:00:00\n",
      "2015-07-03 00:00:00\n",
      "2015-07-10 00:00:00\n",
      "2015-07-17 00:00:00\n",
      "2015-07-24 00:00:00\n",
      "2015-07-31 00:00:00\n",
      "2015-08-07 00:00:00\n",
      "2015-08-14 00:00:00\n",
      "2015-08-21 00:00:00\n",
      "2015-08-28 00:00:00\n",
      "2015-09-04 00:00:00\n",
      "2015-09-11 00:00:00\n",
      "2015-09-18 00:00:00\n",
      "2015-09-25 00:00:00\n",
      "2015-10-02 00:00:00\n",
      "2015-10-09 00:00:00\n",
      "2015-10-16 00:00:00\n",
      "2015-10-23 00:00:00\n",
      "2015-10-30 00:00:00\n",
      "2015-11-06 00:00:00\n",
      "2015-11-13 00:00:00\n",
      "2015-11-20 00:00:00\n",
      "2015-11-27 00:00:00\n",
      "2015-12-04 00:00:00\n",
      "2015-12-11 00:00:00\n",
      "2015-12-18 00:00:00\n",
      "2015-12-25 00:00:00\n",
      "2016-01-01 00:00:00\n",
      "2016-01-08 00:00:00\n",
      "2016-01-15 00:00:00\n",
      "2016-01-22 00:00:00\n",
      "2016-01-29 00:00:00\n",
      "2016-02-05 00:00:00\n",
      "2016-02-12 00:00:00\n",
      "2016-02-19 00:00:00\n",
      "2016-02-26 00:00:00\n",
      "2016-03-04 00:00:00\n",
      "2016-03-11 00:00:00\n",
      "2016-03-18 00:00:00\n",
      "2016-03-25 00:00:00\n",
      "2016-04-01 00:00:00\n",
      "2016-04-08 00:00:00\n",
      "2016-04-15 00:00:00\n",
      "2016-04-22 00:00:00\n",
      "2016-04-29 00:00:00\n",
      "2016-05-06 00:00:00\n",
      "2016-05-13 00:00:00\n",
      "2016-05-20 00:00:00\n",
      "2016-05-27 00:00:00\n",
      "2016-06-03 00:00:00\n",
      "2016-06-10 00:00:00\n",
      "2016-06-17 00:00:00\n",
      "2016-06-24 00:00:00\n",
      "2016-07-01 00:00:00\n",
      "2016-07-08 00:00:00\n",
      "2016-07-15 00:00:00\n",
      "2016-07-22 00:00:00\n",
      "2016-07-29 00:00:00\n",
      "2016-08-05 00:00:00\n",
      "2016-08-12 00:00:00\n",
      "2016-08-19 00:00:00\n",
      "2016-08-26 00:00:00\n",
      "2016-09-02 00:00:00\n",
      "2016-09-09 00:00:00\n",
      "2016-09-16 00:00:00\n",
      "2016-09-23 00:00:00\n",
      "2016-09-30 00:00:00\n",
      "2016-10-07 00:00:00\n",
      "2016-10-14 00:00:00\n",
      "2016-10-21 00:00:00\n",
      "2016-10-28 00:00:00\n",
      "2016-11-04 00:00:00\n",
      "2016-11-11 00:00:00\n",
      "2016-11-18 00:00:00\n",
      "2016-11-25 00:00:00\n",
      "2016-12-02 00:00:00\n",
      "2016-12-09 00:00:00\n",
      "2016-12-16 00:00:00\n",
      "2016-12-23 00:00:00\n",
      "2016-12-30 00:00:00\n",
      "585.0877640247345\n"
     ]
    }
   ],
   "source": [
    "start = time()\n",
    "factor_names = list(factors.keys())\n",
    "spcalc = RegressionPtflSpcalc(all_factor_names=factor_names)\n",
    "bt = BackTest(univ=univ, factor_exp_mat=factor_exp_mat, daterange=[datetime(2013, 12, 31), datetime(2016, 12, 31)], sp_calc=spcalc, rebal=1)\n",
    "ptfl_lst, pnl_lst = bt.calc_pnl(silent=False)\n",
    "end = time()\n",
    "\n",
    "print(end - start)"
   ]
  },
  {
   "cell_type": "code",
   "execution_count": 4,
   "metadata": {
    "collapsed": false
   },
   "outputs": [
    {
     "name": "stdout",
     "output_type": "stream",
     "text": [
      "CAGR :\t 0.0668272929271\n",
      "Volatility :\t 0.235138461183\n",
      "Sharpe :\t 0.275110658606\n",
      "Max_Drawdown :\t 0.00142614756128\n",
      "Drawdown_Length :\t 0\n"
     ]
    }
   ],
   "source": [
    "bt.calc_pa(silent=False)"
   ]
  },
  {
   "cell_type": "code",
   "execution_count": 5,
   "metadata": {
    "collapsed": false
   },
   "outputs": [
    {
     "data": {
      "image/png": "[encoded data removed]",
      "text/plain": [
       "<matplotlib.figure.Figure at 0x7f0a4a7f79b0>"
      ]
     },
     "metadata": {},
     "output_type": "display_data"
    }
   ],
   "source": [
    "plt.plot(np.cumsum(pnl_lst))\n",
    "plt.show()"
   ]
  },
  {
   "cell_type": "code",
   "execution_count": 9,
   "metadata": {
    "collapsed": false
   },
   "outputs": [],
   "source": [
    "bt.pnl_lst.to_csv('output/pnl_pre.csv')"
   ]
  },
  {
   "cell_type": "code",
   "execution_count": null,
   "metadata": {
    "collapsed": true
   },
   "outputs": [],
   "source": []
  }
 ],
 "metadata": {
  "anaconda-cloud": {},
  "kernelspec": {
   "display_name": "Python [conda root]",
   "language": "python",
   "name": "conda-root-py"
  },
  "language_info": {
   "codemirror_mode": {
    "name": "ipython",
    "version": 3
   },
   "file_extension": ".py",
   "mimetype": "text/x-python",
   "name": "python",
   "nbconvert_exporter": "python",
   "pygments_lexer": "ipython3",
   "version": "3.5.2"
  }
 },
 "nbformat": 4,
 "nbformat_minor": 1
}
