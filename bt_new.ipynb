{
 "cells": [
  {
   "cell_type": "code",
   "execution_count": 1,
   "metadata": {
    "collapsed": false
   },
   "outputs": [],
   "source": [
    "import numpy as np\n",
    "import pandas as pd\n",
    "import matplotlib.pyplot as plt\n",
    "from datetime import datetime, timedelta\n",
    "from time import time\n",
    "import pickle\n",
    "import os\n",
    "\n",
    "from setup.univ_setup import *\n",
    "from setup.utils import *\n",
    "from factor_mining.combine_factors import *\n",
    "from factor_mining.factor_preprocessing import *\n",
    "from performance_analysis.pa_core import *\n",
    "\n",
    "from backtest.BackTest import *\n",
    "from backtest.regression_portfolio import *\n",
    "\n",
    "from factor_mining.Mark0 import * # This is alpha file"
   ]
  },
  {
   "cell_type": "code",
   "execution_count": 2,
   "metadata": {
    "collapsed": false
   },
   "outputs": [
    {
     "name": "stdout",
     "output_type": "stream",
     "text": [
      "Setup R3000 universe\n",
      "use existing binary file\n",
      "0.424617 seconds\n",
      "Calculate factors\n",
      "Filt the untradables\n",
      "Done\n",
      "Scale each factor\n",
      "Winsorize with +/- 3 std\n",
      "Done\n"
     ]
    }
   ],
   "source": [
    "### universe setup ###\n",
    "print('Setup R3000 universe')\n",
    "datadir = '/home/derek-qi/Documents/R3000_Data/data/r3000/' # You will have to change this to the directory of univ.pkl\n",
    "start = time()\n",
    "if os.path.exists(datadir + 'univ.pkl'):\n",
    "    print('use existing binary file')\n",
    "    with open(datadir + 'univ.pkl', 'rb') as univ_fh:\n",
    "        univ = pickle.load(univ_fh)\n",
    "    \n",
    "else:\n",
    "    print('construct from csv')\n",
    "    big_table_dir = datadir + 'big_table_full_v4.csv'\n",
    "    univ = univ_setup(big_table_dir)\n",
    "    # filt_by_name(univ) # This is slow！\n",
    "    with open(datadir + 'univ.pkl','wb') as fh:\n",
    "        pickle.dump(univ, fh)\n",
    "end = time()\n",
    "print('%f seconds' % (end - start))\n",
    "\n",
    "filt_na(univ)\n",
    "import warnings\n",
    "warnings.filterwarnings(\"ignore\")\n",
    "\n",
    "### model configuration ###\n",
    "print('Calculate factors')\n",
    "# define and calculate all factors\n",
    "factors = alpha_four_factors(univ)\n",
    "factor_names = list(factors.keys())\n",
    "\n",
    "# concat into factor exposure matrices\n",
    "factor_exp_mat = combine_factors(factors)\n",
    "filt_na(factor_exp_mat)\n",
    "\n",
    "### Filt the universe ###\n",
    "print('Filt the untradables')\n",
    "\n",
    "filt_byval(univ, 'in_r3000', 0)\n",
    "filt_byval(univ, 'price', 10)\n",
    "filt_byval(univ, 'not_in_MA', 0)\n",
    "filt_byval(univ, 'volume', 1500000)\n",
    "factor_exp_mat = merge(factor_exp_mat, univ, right_cols=['f_log_ret_1', 'industry'])\n",
    "print('Done')\n",
    "\n",
    "# Preprocessing factor expsure matrices\n",
    "print('Scale each factor')\n",
    "factor_exp_mat = process_batch(factor_exp_mat, standardize, factor_names=factor_names)\n",
    "print('Winsorize with +/- 3 std')\n",
    "factor_exp_mat = process_batch(factor_exp_mat, winsorize_std, factor_names=factor_names)\n",
    "print('Done')"
   ]
  },
  {
   "cell_type": "code",
   "execution_count": 3,
   "metadata": {
    "collapsed": false
   },
   "outputs": [
    {
     "name": "stdout",
     "output_type": "stream",
     "text": [
      "2016-12-02 00:00:00\n",
      "2016-12-09 00:00:00\n",
      "2016-12-16 00:00:00\n",
      "2016-12-23 00:00:00\n",
      "2016-12-30 00:00:00\n",
      "45.281129360198975\n"
     ]
    }
   ],
   "source": [
    "start = time()\n",
    "start_date = datetime(2016, 12, 1)\n",
    "end_date = datetime(2016, 12, 31)\n",
    "factor_names = list(factors.keys())\n",
    "spcalc = RegressionPtflSpcalc(all_factor_names=factor_names)\n",
    "bt = BackTest(univ=univ, factor_exp_mat=factor_exp_mat, daterange=[start_date, end_date], sp_calc=spcalc, rebal=1)\n",
    "ptfl_lst, pnl_lst = bt.calc_pnl(silent=False, has_short=True)\n",
    "end = time()\n",
    "\n",
    "print(end - start)"
   ]
  },
  {
   "cell_type": "code",
   "execution_count": 4,
   "metadata": {
    "collapsed": false
   },
   "outputs": [
    {
     "name": "stdout",
     "output_type": "stream",
     "text": [
      "CAGR :\t 1.27565824682\n",
      "Volatility :\t 0.470534172574\n",
      "Sharpe :\t 1.74752312954\n",
      "Max_Drawdown :\t 0.0431835213213\n",
      "Drawdown_Length :\t 0\n"
     ]
    }
   ],
   "source": [
    "bt.calc_pa(silent=False)"
   ]
  },
  {
   "cell_type": "code",
   "execution_count": 5,
   "metadata": {
    "collapsed": false
   },
   "outputs": [
    {
     "data": {
      "image/png": "[encoded data removed]",
      "text/plain": [
       "<matplotlib.figure.Figure at 0x7fb0ebc8ecc0>"
      ]
     },
     "metadata": {},
     "output_type": "display_data"
    }
   ],
   "source": [
    "plt.plot(np.cumsum(pnl_lst))\n",
    "plt.show()"
   ]
  },
  {
   "cell_type": "code",
   "execution_count": 6,
   "metadata": {
    "collapsed": false
   },
   "outputs": [],
   "source": [
    "bt.pnl_lst.to_csv('output/pnl_final_pre.csv')"
   ]
  },
  {
   "cell_type": "code",
   "execution_count": null,
   "metadata": {
    "collapsed": true
   },
   "outputs": [],
   "source": []
  }
 ],
 "metadata": {
  "anaconda-cloud": {},
  "kernelspec": {
   "display_name": "Python [conda root]",
   "language": "python",
   "name": "conda-root-py"
  },
  "language_info": {
   "codemirror_mode": {
    "name": "ipython",
    "version": 3
   },
   "file_extension": ".py",
   "mimetype": "text/x-python",
   "name": "python",
   "nbconvert_exporter": "python",
   "pygments_lexer": "ipython3",
   "version": "3.5.2"
  }
 },
 "nbformat": 4,
 "nbformat_minor": 1
}
