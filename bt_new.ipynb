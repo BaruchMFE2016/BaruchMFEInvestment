{
 "cells": [
  {
   "cell_type": "code",
   "execution_count": 1,
   "metadata": {
    "collapsed": false
   },
   "outputs": [],
   "source": [
    "import numpy as np\n",
    "import pandas as pd\n",
    "import matplotlib.pyplot as plt\n",
    "from datetime import datetime, timedelta\n",
    "from time import time\n",
    "import pickle\n",
    "import os\n",
    "\n",
    "from setup.univ_setup import *\n",
    "from setup.utils import *\n",
    "from factor_mining.combine_factors import *\n",
    "from factor_mining.factor_preprocessing import *\n",
    "from performance_analysis.pa_core import *\n",
    "\n",
    "from backtest.BackTestSinglePeriod import *\n",
    "from backtest.BackTest import *\n",
    "from backtest.regression_portfolio import *\n",
    "\n",
    "from factor_mining.attribution.factor_correlation import *\n",
    "\n",
    "from factor_mining.Mark0 import * # This is alpha file"
   ]
  },
  {
   "cell_type": "code",
   "execution_count": 2,
   "metadata": {
    "collapsed": false
   },
   "outputs": [
    {
     "name": "stdout",
     "output_type": "stream",
     "text": [
      "Setup R3000 universe\n",
      "use existing binary file\n",
      "0.293174 seconds\n",
      "Calculate factors\n",
      "Scale each factor\n",
      "Winsorize with +/- 3 std\n",
      "Done\n",
      "Filt the untradables\n",
      "Done\n"
     ]
    }
   ],
   "source": [
    "### universe setup ###\n",
    "print('Setup R3000 universe')\n",
    "datadir = '/home/derek-qi/Documents/R3000_Data/data/r3000/'\n",
    "start = time()\n",
    "if os.path.exists(datadir + 'univ.pkl'):\n",
    "    print('use existing binary file')\n",
    "    with open(datadir + 'univ.pkl', 'rb') as univ_fh:\n",
    "        univ = pickle.load(univ_fh)\n",
    "    \n",
    "else:\n",
    "    print('construct from csv')\n",
    "    big_table_dir = datadir + 'big_table_full_v4.csv'\n",
    "    univ = univ_setup(big_table_dir)\n",
    "    # filt_by_name(univ) # This is slow！\n",
    "    with open(datadir + 'univ.pkl','wb') as fh:\n",
    "        pickle.dump(univ, fh)\n",
    "end = time()\n",
    "print('%f seconds' % (end - start))\n",
    "\n",
    "filt_na(univ)\n",
    "import warnings\n",
    "warnings.filterwarnings(\"ignore\")\n",
    "\n",
    "### model configuration ###\n",
    "print('Calculate factors')\n",
    "# define and calculate all factors\n",
    "factors = alpha_four_factors(univ)\n",
    "\n",
    "# concat into factor exposure matrices\n",
    "factor_exp_mat = combine_factors(factors)\n",
    "filt_na(factor_exp_mat)\n",
    "\n",
    "# Preprocessing factor expsure matrices\n",
    "print('Scale each factor')\n",
    "factor_exp_mat = process_batch(factor_exp_mat, standardize)\n",
    "print('Winsorize with +/- 3 std')\n",
    "factor_exp_mat = process_batch(factor_exp_mat, winsorize_std)\n",
    "print('Done')\n",
    "\n",
    "### Filt the universe ###\n",
    "print('Filt the untradables')\n",
    "\n",
    "filt_byval(univ, 'in_r3000', 0)\n",
    "filt_byval(univ, 'price', 10)\n",
    "# filt_byval(univ, 'not_in_MA', 0)\n",
    "filt_byval(univ, 'volume', 1500000)\n",
    "factor_exp_mat = merge(factor_exp_mat, univ, right_cols=['f_log_ret_1', 'industry'])\n",
    "print('Done')"
   ]
  },
  {
   "cell_type": "code",
   "execution_count": 3,
   "metadata": {
    "collapsed": false
   },
   "outputs": [
    {
     "name": "stdout",
     "output_type": "stream",
     "text": [
      "calculate regression coef for time  20151106\n",
      "calculate regression coef for time  20151113\n",
      "calculate regression coef for time  20151120\n",
      "calculate regression coef for time  20151127\n",
      "calculate regression coef for time  20151204\n",
      "calculate regression coef for time  20151211\n",
      "calculate regression coef for time  20151218\n",
      "calculate regression coef for time  20151225\n",
      "calculate regression coef for time  20160101\n",
      "calculate regression coef for time  20160108\n",
      "calculate regression coef for time  20160115\n",
      "calculate regression coef for time  20160122\n",
      "calculate regression coef for time  20160129\n",
      "calculate regression coef for time  20160205\n",
      "calculate regression coef for time  20160212\n",
      "calculate regression coef for time  20160219\n",
      "calculate regression coef for time  20160226\n",
      "calculate regression coef for time  20160304\n",
      "calculate regression coef for time  20160311\n",
      "calculate regression coef for time  20160318\n",
      "calculate regression coef for time  20160325\n",
      "calculate regression coef for time  20160401\n",
      "calculate regression coef for time  20160408\n",
      "calculate regression coef for time  20160415\n",
      "calculate regression coef for time  20160422\n",
      "calculate regression coef for time  20160429\n",
      "calculate regression coef for time  20160506\n",
      "calculate regression coef for time  20160513\n",
      "calculate regression coef for time  20160520\n",
      "calculate regression coef for time  20160527\n",
      "calculate regression coef for time  20160603\n",
      "calculate regression coef for time  20160610\n",
      "calculate regression coef for time  20160617\n",
      "calculate regression coef for time  20160624\n",
      "calculate regression coef for time  20160701\n",
      "calculate regression coef for time  20160708\n",
      "calculate regression coef for time  20160715\n",
      "calculate regression coef for time  20160722\n",
      "calculate regression coef for time  20160729\n",
      "calculate regression coef for time  20160805\n",
      "calculate regression coef for time  20160812\n",
      "calculate regression coef for time  20160819\n",
      "calculate regression coef for time  20160826\n",
      "calculate regression coef for time  20160902\n",
      "calculate regression coef for time  20160909\n",
      "calculate regression coef for time  20160916\n",
      "calculate regression coef for time  20160923\n",
      "calculate regression coef for time  20160930\n",
      "calculate regression coef for time  20161007\n",
      "calculate regression coef for time  20161014\n",
      "calculate regression coef for time  20161021\n",
      "calculate regression coef for time  20161028\n",
      "calculate regression coef for time  20161104\n",
      "calculate regression coef for time  20161111\n",
      "calculate regression coef for time  20161118\n",
      "calculate regression coef for time  20161125\n",
      "calculate regression coef for time  20161202\n",
      "calculate regression coef for time  20161209\n",
      "calculate regression coef for time  20161216\n",
      "calculate regression coef for time  20161223\n"
     ]
    }
   ],
   "source": [
    "factor_names = list(factors.keys())\n",
    "spcalc = RegressionPtflSpcalc(all_factor_names=factor_names)\n",
    "bt = BackTest(univ=univ, factor_exp_mat=factor_exp_mat, daterange=[datetime(2016, 6, 1), datetime(2016, 12, 31)], sp_calc=spcalc, rebal=1)\n",
    "ptfl_lst, pnl_lst = bt.calc_pnl()"
   ]
  },
  {
   "cell_type": "code",
   "execution_count": 7,
   "metadata": {
    "collapsed": false
   },
   "outputs": [
    {
     "data": {
      "image/png": "[encoded data removed]",
      "text/plain": [
       "<matplotlib.figure.Figure at 0x7f854db2fcf8>"
      ]
     },
     "metadata": {},
     "output_type": "display_data"
    }
   ],
   "source": [
    "plt.plot(np.cumsum(pnl_lst))\n",
    "plt.show()"
   ]
  },
  {
   "cell_type": "code",
   "execution_count": null,
   "metadata": {
    "collapsed": true
   },
   "outputs": [],
   "source": []
  }
 ],
 "metadata": {
  "anaconda-cloud": {},
  "kernelspec": {
   "display_name": "Python [conda root]",
   "language": "python",
   "name": "conda-root-py"
  },
  "language_info": {
   "codemirror_mode": {
    "name": "ipython",
    "version": 3
   },
   "file_extension": ".py",
   "mimetype": "text/x-python",
   "name": "python",
   "nbconvert_exporter": "python",
   "pygments_lexer": "ipython3",
   "version": "3.5.2"
  }
 },
 "nbformat": 4,
 "nbformat_minor": 1
}
