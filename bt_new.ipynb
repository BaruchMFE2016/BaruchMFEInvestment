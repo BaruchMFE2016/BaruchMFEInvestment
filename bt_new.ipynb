{
 "cells": [
  {
   "cell_type": "code",
   "execution_count": 1,
   "metadata": {
    "collapsed": false
   },
   "outputs": [],
   "source": [
    "import numpy as np\n",
    "import pandas as pd\n",
    "import matplotlib.pyplot as plt\n",
    "from datetime import datetime, timedelta\n",
    "\n",
    "from setup.univ_setup import *\n",
    "from setup.utils import *\n",
    "from factor_mining.combine_factors import *\n",
    "from factor_mining.factor_preprocessing import *\n",
    "from performance_analysis.pa_core import *\n",
    "\n",
    "from backtest.BackTest import *\n",
    "from backtest.regression_portfolio import *\n",
    "\n",
    "from factor_mining.Mark0 import * # This is alpha file"
   ]
  },
  {
   "cell_type": "code",
   "execution_count": 2,
   "metadata": {
    "collapsed": false
   },
   "outputs": [
    {
     "name": "stdout",
     "output_type": "stream",
     "text": [
      "Setup R3000 universe\n",
      "use existing binary file\n",
      "CPU times: user 2.71 s, sys: 260 ms, total: 2.97 s\n",
      "Wall time: 3.31 s\n"
     ]
    }
   ],
   "source": [
    "%%time\n",
    "### universe setup ###\n",
    "datadir = '/home/derek-qi/Documents/R3000_Data/data/r3000/'\n",
    "univ = univ_setup(datadir, version=5, wFund=True)\n",
    "filt_na(univ)\n",
    "\n",
    "# import warnings\n",
    "# warnings.filterwarnings(\"ignore\")"
   ]
  },
  {
   "cell_type": "code",
   "execution_count": 3,
   "metadata": {
    "collapsed": false
   },
   "outputs": [
    {
     "name": "stdout",
     "output_type": "stream",
     "text": [
      "Calculate factors\n",
      "CPU times: user 53.6 s, sys: 860 ms, total: 54.4 s\n",
      "Wall time: 54.4 s\n"
     ]
    }
   ],
   "source": [
    "%%time\n",
    "### model configuration ###\n",
    "print('Calculate factors')\n",
    "# define and calculate all factors\n",
    "factors = alpha_wFund_00(univ)\n",
    "\n",
    "factor_names = list(factors.keys())\n",
    "factors_dict = factors\n",
    "factor_names = [k for k in factors_dict.keys()]\n",
    "N_f = len(factor_names)\n",
    "datelst = sorted(factors_dict[factor_names[0]].keys())\n",
    "\n",
    "# concat into factor exposure matrices\n",
    "factor_exp_mat = combine_factors(factors)\n",
    "filt_na(factor_exp_mat)"
   ]
  },
  {
   "cell_type": "code",
   "execution_count": 4,
   "metadata": {
    "collapsed": false
   },
   "outputs": [
    {
     "name": "stdout",
     "output_type": "stream",
     "text": [
      "Filt the untradables\n",
      "Done\n",
      "Standard scale each factor\n",
      "Winsorize with +/- 3 std\n",
      "Done\n"
     ]
    }
   ],
   "source": [
    "### Filt the universe ###\n",
    "print('Filt the untradables')\n",
    "\n",
    "filt_byval(univ, 'in_r3000', 0)\n",
    "filt_byval(univ, 'price', 10)\n",
    "# filt_byval(univ, 'not_in_MA', 0)\n",
    "filt_byval(univ, 'volume', 300000)\n",
    "filt_byval(univ, 'div_ratio', 10, keep='below')\n",
    "\n",
    "factor_exp_mat = merge(factor_exp_mat, univ, right_cols=['f_log_ret_1'])\n",
    "print('Done')\n",
    "\n",
    "# Preprocessing factor expsure matrices\n",
    "print('Standard scale each factor')\n",
    "factor_exp_mat = process_batch(factor_exp_mat, standardize, factor_names=factor_names)\n",
    "print('Winsorize with +/- 3 std')\n",
    "factor_exp_mat = process_batch(factor_exp_mat, winsorize_std, factor_names=factor_names)\n",
    "print('Done')"
   ]
  },
  {
   "cell_type": "code",
   "execution_count": null,
   "metadata": {
    "collapsed": false
   },
   "outputs": [],
   "source": [
    "%%time\n",
    "start_date = np.datetime64('2014-01-01')\n",
    "end_date = np.datetime64('2016-12-31')\n",
    "\n",
    "factor_names = list(factors.keys())\n",
    "spcalc = RegressionPtflSpcalc(all_factor_names=factor_names, smoothing='simple')\n",
    "bt = BackTest(univ=univ, factor_exp_mat=factor_exp_mat, daterange=[start_date, end_date], sp_calc=spcalc, rebal=1)\n",
    "ptfl_lst, pnl_lst = bt.calc_pnl(silent=True, has_short=True)"
   ]
  },
  {
   "cell_type": "code",
   "execution_count": null,
   "metadata": {
    "collapsed": false
   },
   "outputs": [],
   "source": [
    "fr_series = np.stack(fr['factor_returns'] for fr in spcalc.all_factor_returns.values())\n",
    "window = 30\n",
    "ck = np.ones((window,)) / window\n",
    "for c in range(3):\n",
    "    fr_series[:,c] = np.convolve(ck, fr_series[:,c])[window-1:]\n",
    "    plt.plot(fr_series[:,c], label=spcalc.all_factor_names[c])\n",
    "plt.legend(loc='center right', bbox_to_anchor=(1.5, 0.5))\n",
    "plt.show()"
   ]
  },
  {
   "cell_type": "code",
   "execution_count": null,
   "metadata": {
    "collapsed": false
   },
   "outputs": [],
   "source": [
    "bt.calc_pa(silent=False)"
   ]
  },
  {
   "cell_type": "code",
   "execution_count": null,
   "metadata": {
    "collapsed": false
   },
   "outputs": [],
   "source": [
    "dlst = sorted(univ.keys())\n",
    "dlst = [d for d in dlst if d >= start_date and d <= end_date]\n",
    "plt.plot(dlst, np.cumsum(pnl_lst['pnl']))\n",
    "plt.show()"
   ]
  },
  {
   "cell_type": "code",
   "execution_count": null,
   "metadata": {
    "collapsed": false
   },
   "outputs": [],
   "source": [
    "tstamp = str(datetime.now())\n",
    "bt.pnl_lst.to_csv('output/pnl_%s.csv' % tstamp)"
   ]
  },
  {
   "cell_type": "code",
   "execution_count": null,
   "metadata": {
    "collapsed": false
   },
   "outputs": [],
   "source": [
    "ptfl_lst = pd.concat(bt.ptfl_lst)\n",
    "pp = pd.pivot_table(ptfl_lst, values='weight', columns='ticker', index='date')\n",
    "pp.to_csv('output/portfolio_table_%s.csv' % tstamp)"
   ]
  },
  {
   "cell_type": "code",
   "execution_count": null,
   "metadata": {
    "collapsed": true
   },
   "outputs": [],
   "source": []
  }
 ],
 "metadata": {
  "anaconda-cloud": {},
  "kernelspec": {
   "display_name": "Python [conda root]",
   "language": "python",
   "name": "conda-root-py"
  },
  "language_info": {
   "codemirror_mode": {
    "name": "ipython",
    "version": 3
   },
   "file_extension": ".py",
   "mimetype": "text/x-python",
   "name": "python",
   "nbconvert_exporter": "python",
   "pygments_lexer": "ipython3",
   "version": "3.5.2"
  }
 },
 "nbformat": 4,
 "nbformat_minor": 1
}
