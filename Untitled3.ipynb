{
 "cells": [
  {
   "cell_type": "code",
   "execution_count": 1,
   "metadata": {
    "collapsed": true
   },
   "outputs": [],
   "source": [
    "import numpy as np\n",
    "import pandas as pd\n",
    "import matplotlib.pyplot as plt\n",
    "import warnings\n",
    "from datetime import datetime, timedelta\n",
    "\n",
    "from setup.univ_setup import *\n",
    "from setup.utils import *\n",
    "from factor_mining.combine_factors import *\n",
    "from factor_mining.factor_preprocessing import *\n",
    "from performance_analysis.pa_core import *\n",
    "\n",
    "from backtest.BackTestSinglePeriod import *\n",
    "from backtest.BackTest import *\n",
    "from backtest.percentile_portfolio import *\n",
    "\n",
    "warnings.filterwarnings(\"ignore\")"
   ]
  },
  {
   "cell_type": "code",
   "execution_count": 2,
   "metadata": {
    "collapsed": false
   },
   "outputs": [
    {
     "name": "stdout",
     "output_type": "stream",
     "text": [
      "Setup R3000 universe\n",
      "use existing binary file\n",
      "0.442810 seconds\n"
     ]
    }
   ],
   "source": [
    "### universe setup ###\n",
    "datadir = '/home/derek-qi/Documents/R3000_Data/data/r3000/'\n",
    "univ = univ_setup(datadir, silent=False)\n",
    "filt_na(univ)"
   ]
  },
  {
   "cell_type": "code",
   "execution_count": 3,
   "metadata": {
    "collapsed": true
   },
   "outputs": [],
   "source": [
    "from factor_mining.factors.momentum import momentum\n",
    "from factor_mining.factors.momentum_gap import momentum_gap\n",
    "from factor_mining.factors.revised_momentum import revised_momentum"
   ]
  },
  {
   "cell_type": "code",
   "execution_count": 4,
   "metadata": {
    "collapsed": false
   },
   "outputs": [
    {
     "name": "stdout",
     "output_type": "stream",
     "text": [
      "CPU times: user 2min 28s, sys: 968 ms, total: 2min 29s\n",
      "Wall time: 2min 29s\n"
     ]
    }
   ],
   "source": [
    "%%time\n",
    "# construct all variants\n",
    "univ_table = stack(univ)\n",
    "# univ_table.date = pd.to_datetime(univ_table.date)\n",
    "\n",
    "head, tail = 4, 52\n",
    "factors = {}\n",
    "# factors['momentum'] = momentum(univ_table, head, tail)\n",
    "factors['momentum'] = momentum(univ_table, head, tail, weight='ewma')\n",
    "factors['revised_momentum'] = revised_momentum(univ_table, head, tail)\n",
    "factors['momentum_gap'] = momentum_gap(univ_table, head, tail, q1=0.75, q2=0.25)"
   ]
  },
  {
   "cell_type": "code",
   "execution_count": 5,
   "metadata": {
    "collapsed": false
   },
   "outputs": [
    {
     "name": "stdout",
     "output_type": "stream",
     "text": [
      "Filt the untradables\n",
      "Scale each factor\n",
      "Winsorize with +/- 3 std\n",
      "Done\n"
     ]
    }
   ],
   "source": [
    "factor_names = list(factors.keys())\n",
    "\n",
    "# concat into factor exposure matrices\n",
    "factor_exp_mat = combine_factors(factors)\n",
    "filt_na(factor_exp_mat)\n",
    "\n",
    "### Filt the illiquid names within universe ###\n",
    "print('Filt the untradables')\n",
    "\n",
    "filt_byval(univ, 'in_r3000', 0)\n",
    "filt_byval(univ, 'not_in_MA', 0)\n",
    "filt_byval(univ, 'price', 10)\n",
    "filt_byval(univ, 'volume', 1500000)\n",
    "factor_exp_mat = merge(factor_exp_mat, univ, right_cols=['f_log_ret_1', 'industry'])\n",
    "\n",
    "# Preprocessing factor expsure matrices\n",
    "print('Scale each factor')\n",
    "factor_exp_mat = process_batch(factor_exp_mat, standardize, factor_names=factor_names)\n",
    "print('Winsorize with +/- 3 std')\n",
    "factor_exp_mat = process_batch(factor_exp_mat, winsorize_std, factor_names=factor_names)\n",
    "print('Done')"
   ]
  },
  {
   "cell_type": "code",
   "execution_count": 6,
   "metadata": {
    "collapsed": false
   },
   "outputs": [
    {
     "name": "stdout",
     "output_type": "stream",
     "text": [
      "2010-04-30 00:00:00 2017-04-28 00:00:00\n"
     ]
    }
   ],
   "source": [
    "datelst = sorted(univ.keys())\n",
    "print(datelst[0], datelst[-1])\n",
    "start_date = datetime(2012, 1, 1)\n",
    "end_date = datetime(2016, 12, 31)"
   ]
  },
  {
   "cell_type": "code",
   "execution_count": 9,
   "metadata": {
    "collapsed": false
   },
   "outputs": [
    {
     "name": "stdout",
     "output_type": "stream",
     "text": [
      "revised_momentum [0, 5]\n",
      "revised_momentum [5, 10]\n",
      "revised_momentum [10, 15]\n",
      "revised_momentum [15, 20]\n",
      "revised_momentum [20, 25]\n",
      "revised_momentum [25, 30]\n",
      "revised_momentum [30, 35]\n",
      "revised_momentum [35, 40]\n",
      "revised_momentum [40, 45]\n",
      "revised_momentum [45, 50]\n",
      "revised_momentum [50, 55]\n",
      "revised_momentum [55, 60]\n",
      "revised_momentum [60, 65]\n",
      "revised_momentum [65, 70]\n",
      "revised_momentum [70, 75]\n",
      "revised_momentum [75, 80]\n",
      "revised_momentum [80, 85]\n",
      "revised_momentum [85, 90]\n",
      "revised_momentum [90, 95]\n",
      "revised_momentum [95, 100]\n",
      "momentum_gap [0, 5]\n",
      "momentum_gap [5, 10]\n",
      "momentum_gap [10, 15]\n",
      "momentum_gap [15, 20]\n",
      "momentum_gap [20, 25]\n",
      "momentum_gap [25, 30]\n",
      "momentum_gap [30, 35]\n",
      "momentum_gap [35, 40]\n",
      "momentum_gap [40, 45]\n",
      "momentum_gap [45, 50]\n",
      "momentum_gap [50, 55]\n",
      "momentum_gap [55, 60]\n",
      "momentum_gap [60, 65]\n",
      "momentum_gap [65, 70]\n",
      "momentum_gap [70, 75]\n",
      "momentum_gap [75, 80]\n",
      "momentum_gap [80, 85]\n",
      "momentum_gap [85, 90]\n",
      "momentum_gap [90, 95]\n",
      "momentum_gap [95, 100]\n",
      "momentum [0, 5]\n",
      "momentum [5, 10]\n",
      "momentum [10, 15]\n",
      "momentum [15, 20]\n",
      "momentum [20, 25]\n",
      "momentum [25, 30]\n",
      "momentum [30, 35]\n",
      "momentum [35, 40]\n",
      "momentum [40, 45]\n",
      "momentum [45, 50]\n",
      "momentum [50, 55]\n",
      "momentum [55, 60]\n",
      "momentum [60, 65]\n",
      "momentum [65, 70]\n",
      "momentum [70, 75]\n",
      "momentum [75, 80]\n",
      "momentum [80, 85]\n",
      "momentum [85, 90]\n",
      "momentum [90, 95]\n",
      "momentum [95, 100]\n",
      "CPU times: user 28min 38s, sys: 264 ms, total: 28min 38s\n",
      "Wall time: 28min 38s\n"
     ]
    }
   ],
   "source": [
    "%%time\n",
    "from itertools import product\n",
    "step = 5\n",
    "ranges = [[i * step, (i + 1) * step] for i in range(100//step)]\n",
    "daterange = [start_date, end_date]\n",
    "config_iter = product(factor_names, ranges)\n",
    "iter_result = {}\n",
    "for f, g in config_iter:\n",
    "    print(f,g)\n",
    "    spcalc = PercentilePtflSpcalc(signal=f, sel_range=g, weighting='equal')\n",
    "    bt = BackTest(univ, factor_exp_mat, daterange, spcalc)\n",
    "    ptfl_lst, pnl_lst = bt.calc_pnl()\n",
    "    k = f + '_' + str(g[0]) + '_' + str(g[1])\n",
    "    iter_result[k] = (np.nanmean(pnl_lst.pnl), np.sqrt(np.nanvar(pnl_lst.pnl)))"
   ]
  },
  {
   "cell_type": "code",
   "execution_count": 11,
   "metadata": {
    "collapsed": false
   },
   "outputs": [
    {
     "data": {
      "image/png": "[encoded data removed]",
      "text/plain": [
       "<matplotlib.figure.Figure at 0x7ff8ee06ebe0>"
      ]
     },
     "metadata": {},
     "output_type": "display_data"
    },
    {
     "data": {
      "image/png": "[encoded data removed]",
      "text/plain": [
       "<matplotlib.figure.Figure at 0x7ff8ee085240>"
      ]
     },
     "metadata": {},
     "output_type": "display_data"
    },
    {
     "data": {
      "image/png": "[encoded data removed]",
      "text/plain": [
       "<matplotlib.figure.Figure at 0x7ff8ee04edd8>"
      ]
     },
     "metadata": {},
     "output_type": "display_data"
    }
   ],
   "source": [
    "for n in factor_names:\n",
    "    c = len(pnl_lst)\n",
    "    x = [5*i for i in range(20)]\n",
    "    y = [iter_result[n+'_'+str(i)+'_'+str(i+5)][0] for i in x]\n",
    "    s = [iter_result[n+'_'+str(i)+'_'+str(i+5)][1] / np.sqrt(c) for i in x]\n",
    "    \n",
    "    # Here comes the plots\n",
    "    bar_width = 2\n",
    "    week = plt.bar(np.array(x), y, width=bar_width, yerr=s, color='b')\n",
    "\n",
    "    plt.xlabel('Percentile')\n",
    "    plt.ylabel('Average period log returns')\n",
    "    plt.title(n)\n",
    "    plt.xticks(np.array(x) + bar_width, x)\n",
    "    plt.legend()\n",
    "\n",
    "    plt.tight_layout()\n",
    "    plt.show()"
   ]
  },
  {
   "cell_type": "code",
   "execution_count": null,
   "metadata": {
    "collapsed": true
   },
   "outputs": [],
   "source": []
  }
 ],
 "metadata": {
  "anaconda-cloud": {},
  "kernelspec": {
   "display_name": "Python [conda root]",
   "language": "python",
   "name": "conda-root-py"
  },
  "language_info": {
   "codemirror_mode": {
    "name": "ipython",
    "version": 3
   },
   "file_extension": ".py",
   "mimetype": "text/x-python",
   "name": "python",
   "nbconvert_exporter": "python",
   "pygments_lexer": "ipython3",
   "version": "3.5.2"
  }
 },
 "nbformat": 4,
 "nbformat_minor": 1
}
