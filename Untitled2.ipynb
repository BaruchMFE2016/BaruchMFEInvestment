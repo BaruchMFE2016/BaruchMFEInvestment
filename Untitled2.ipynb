{
 "cells": [
  {
   "cell_type": "code",
   "execution_count": 1,
   "metadata": {
    "collapsed": true
   },
   "outputs": [],
   "source": [
    "import numpy as np\n",
    "import cvxopt\n",
    "from cvxopt import matrix, solvers"
   ]
  },
  {
   "cell_type": "code",
   "execution_count": 2,
   "metadata": {
    "collapsed": false
   },
   "outputs": [],
   "source": [
    "N_INS, f = 1000, 5\n",
    "fr = np.random.randn(30, f)\n",
    "X = np.random.randn(N_INS, f)\n",
    "alpha = np.random.randn(N_INS)\n",
    "SigmaF = np.cov(fr, rowvar=0)\n",
    "SigmaS = X.dot(SigmaF).dot(X.T)\n",
    "zero_m = matrix(0.0, (N_INS, N_INS))\n",
    "I = matrix(np.eye(N_INS))\n",
    "neg_I = - matrix(np.eye(N_INS))"
   ]
  },
  {
   "cell_type": "code",
   "execution_count": 11,
   "metadata": {
    "collapsed": false
   },
   "outputs": [],
   "source": [
    "gamma = 1\n",
    "lambd, dlt = 0.1, 1\n",
    "U, L = 0.2, 0\n",
    "w_old = np.zeros([N_INS, 1])\n",
    "P = gamma * (matrix(SigmaS)) + lambd * I\n",
    "q = -1 * matrix(alpha)\n",
    "A = matrix(1.0, (1, N_INS))\n",
    "b = matrix(1.0)"
   ]
  },
  {
   "cell_type": "code",
   "execution_count": 12,
   "metadata": {
    "collapsed": false
   },
   "outputs": [],
   "source": [
    "# inequalities Gx <= h\n",
    "G_lst = []\n",
    "h_lst = []\n",
    "\n",
    "# Constraints\n",
    "\n",
    "'''\n",
    "# w_i > 0\n",
    "G_lst.append(neg_I)\n",
    "h_lst.append(matrix(0.0, (N_INS, 1)))\n",
    "'''\n",
    "\n",
    "# L_i < w_i < U_i\n",
    "G_lst.append(I)\n",
    "h_lst.append(matrix(U, (N_INS, 1)))\n",
    "\n",
    "G_lst.append(neg_I)\n",
    "h_lst.append(matrix(-L, (N_INS, 1)))\n",
    "\n",
    "'''\n",
    "# w_i_old - delta < w_i < w_i_old + delta\n",
    "G_lst.append(I)\n",
    "h_lst.append(matrix(w_old) + matrix(dlt, (N_INS, 1)))\n",
    "\n",
    "G_lst.append(neg_I)\n",
    "h_lst.append(matrix(-w_old) + matrix(dlt, (N_INS, 1)))\n",
    "'''\n",
    "\n",
    "G = matrix([G for G in G_lst])\n",
    "h = matrix([h for h in h_lst])"
   ]
  },
  {
   "cell_type": "code",
   "execution_count": 13,
   "metadata": {
    "collapsed": false,
    "scrolled": true
   },
   "outputs": [
    {
     "name": "stdout",
     "output_type": "stream",
     "text": [
      "     pcost       dcost       gap    pres   dres\n",
      " 0: -4.4532e+02 -5.3287e+02  1e+04  2e+01  3e-14\n",
      " 1: -4.4239e+01 -4.5489e+02  9e+02  7e-01  3e-14\n",
      " 2: -8.5697e+00 -7.8692e+01  1e+02  5e-02  6e-15\n",
      " 3: -3.0112e+00 -1.8693e+01  2e+01  9e-03  5e-15\n",
      " 4: -2.6336e+00 -6.2181e+00  4e+00  1e-03  2e-15\n",
      " 5: -2.2854e+00 -4.0586e+00  2e+00  2e-16  2e-15\n",
      " 6: -2.7773e+00 -3.5685e+00  8e-01  2e-16  2e-15\n",
      " 7: -3.0268e+00 -3.2567e+00  2e-01  3e-16  3e-15\n",
      " 8: -3.1185e+00 -3.1310e+00  1e-02  4e-16  3e-15\n",
      " 9: -3.1241e+00 -3.1243e+00  3e-04  7e-16  3e-15\n",
      "10: -3.1242e+00 -3.1242e+00  3e-06  2e-16  3e-15\n",
      "Optimal solution found.\n",
      "CPU times: user 1.78 s, sys: 16 ms, total: 1.79 s\n",
      "Wall time: 911 ms\n"
     ]
    }
   ],
   "source": [
    "%%time\n",
    "sol = solvers.qp(P=P, q=q, G=G, h=h, A=A, b=b)"
   ]
  },
  {
   "cell_type": "code",
   "execution_count": 14,
   "metadata": {
    "collapsed": false
   },
   "outputs": [
    {
     "data": {
      "text/plain": [
       "{'dual infeasibility': 3.0669920504784696e-15,\n",
       " 'dual objective': -3.1241800668296675,\n",
       " 'dual slack': 4.52597796446679e-09,\n",
       " 'gap': 2.7783413877809902e-06,\n",
       " 'iterations': 10,\n",
       " 'primal infeasibility': 2.220446049250313e-16,\n",
       " 'primal objective': -3.1241772884882804,\n",
       " 'primal slack': 2.1436141020785068e-10,\n",
       " 'relative gap': 8.893033689280058e-07,\n",
       " 's': <2000x1 matrix, tc='d'>,\n",
       " 'status': 'optimal',\n",
       " 'x': <1000x1 matrix, tc='d'>,\n",
       " 'y': <1x1 matrix, tc='d'>,\n",
       " 'z': <2000x1 matrix, tc='d'>}"
      ]
     },
     "execution_count": 14,
     "metadata": {},
     "output_type": "execute_result"
    }
   ],
   "source": [
    "sol"
   ]
  },
  {
   "cell_type": "code",
   "execution_count": 15,
   "metadata": {
    "collapsed": false
   },
   "outputs": [],
   "source": [
    "w = np.asarray(sol['x'])"
   ]
  },
  {
   "cell_type": "code",
   "execution_count": 16,
   "metadata": {
    "collapsed": false
   },
   "outputs": [
    {
     "data": {
      "text/plain": [
       "array([ 1.])"
      ]
     },
     "execution_count": 16,
     "metadata": {},
     "output_type": "execute_result"
    }
   ],
   "source": [
    "sum(w)"
   ]
  },
  {
   "cell_type": "code",
   "execution_count": null,
   "metadata": {
    "collapsed": true
   },
   "outputs": [],
   "source": []
  }
 ],
 "metadata": {
  "anaconda-cloud": {},
  "kernelspec": {
   "display_name": "Python [conda root]",
   "language": "python",
   "name": "conda-root-py"
  },
  "language_info": {
   "codemirror_mode": {
    "name": "ipython",
    "version": 3
   },
   "file_extension": ".py",
   "mimetype": "text/x-python",
   "name": "python",
   "nbconvert_exporter": "python",
   "pygments_lexer": "ipython3",
   "version": "3.5.2"
  }
 },
 "nbformat": 4,
 "nbformat_minor": 1
}
