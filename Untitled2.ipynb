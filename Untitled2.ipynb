{
 "cells": [
  {
   "cell_type": "code",
   "execution_count": 1,
   "metadata": {
    "collapsed": true
   },
   "outputs": [],
   "source": [
    "import numpy as np\n",
    "import cvxopt\n",
    "from cvxopt import matrix, solvers"
   ]
  },
  {
   "cell_type": "code",
   "execution_count": 7,
   "metadata": {
    "collapsed": false
   },
   "outputs": [],
   "source": [
    "N_INS, f = 10, 5\n",
    "fr = np.random.randn(30, f)\n",
    "X = np.random.randn(N_INS, f)\n",
    "alpha = np.random.randn(N_INS)\n",
    "SigmaF = np.cov(fr, rowvar=0)\n",
    "SigmaS = X.dot(SigmaF).dot(X.T)\n",
    "zero_m = matrix(0.0, (N_INS, N_INS))\n",
    "I = matrix(np.eye(N_INS))\n",
    "neg_I = - matrix(np.eye(N_INS))"
   ]
  },
  {
   "cell_type": "code",
   "execution_count": 8,
   "metadata": {
    "collapsed": false
   },
   "outputs": [],
   "source": [
    "gamma = 1\n",
    "lambd, dlt = 0, 1\n",
    "U, L = 0.2, 0.2\n",
    "w_old = np.zeros([N_INS, 1])\n",
    "P = matrix([[gamma * matrix(SigmaS), zero_m], [zero_m, zero_m]])\n",
    "q = matrix([-1 * matrix(alpha), matrix(lambd, (N_INS, 1))])\n",
    "A = matrix([[matrix(1.0, (1, N_INS))], [matrix(0.0, (1, N_INS))]])\n",
    "b = matrix(1.0)"
   ]
  },
  {
   "cell_type": "code",
   "execution_count": 9,
   "metadata": {
    "collapsed": false
   },
   "outputs": [],
   "source": [
    "# inequalities Gx <= h\n",
    "G_lst = []\n",
    "h_lst = []\n",
    "\n",
    "# Constraints\n",
    "\n",
    "# w_i > 0\n",
    "G_lst.append(matrix([neg_I, zero_m]).T)\n",
    "h_lst.append(matrix(0.0, (N_INS, 1)))\n",
    "\n",
    "# L_i < w_i < U_i\n",
    "G_lst.append(matrix([I, zero_m]).T)\n",
    "h_lst.append(matrix(U, (N_INS, 1)))\n",
    "\n",
    "G_lst.append(matrix([neg_I, zero_m]).T)\n",
    "h_lst.append(matrix(-L, (N_INS, 1)))\n",
    "\n",
    "# w_i_old - delta < w_i < w_i_old + delta\n",
    "G_lst.append(matrix([I, zero_m]).T)\n",
    "h_lst.append(matrix(w_old) + matrix(dlt, (N_INS, 1)))\n",
    "\n",
    "G_lst.append(matrix([neg_I, zero_m]).T)\n",
    "h_lst.append(matrix(-w_old) + matrix(dlt, (N_INS, 1)))\n",
    "\n",
    "# |w_i - w_i_old| < beta_i\n",
    "G_lst.append(matrix([I, neg_I]).T)\n",
    "h_lst.append(matrix(w_old))\n",
    "\n",
    "G_lst.append(matrix([neg_I, neg_I]).T)\n",
    "h_lst.append(matrix(-w_old))\n",
    "\n",
    "# beta_i > 0\n",
    "G_lst.append(matrix([matrix(0.0, (N_INS, N_INS)), neg_I]).T)\n",
    "h_lst.append(matrix(0.0, (N_INS, 1)))\n",
    "\n",
    "G = matrix([G for G in G_lst])\n",
    "h = matrix([h for h in h_lst])"
   ]
  },
  {
   "cell_type": "code",
   "execution_count": 10,
   "metadata": {
    "collapsed": false,
    "scrolled": true
   },
   "outputs": [
    {
     "name": "stdout",
     "output_type": "stream",
     "text": [
      "     pcost       dcost       gap    pres   dres\n",
      " 0: -7.5241e-01 -2.6469e+01  2e+02  3e+00  7e+00\n",
      " 1: -6.9088e-02 -2.3664e+01  4e+01  4e-01  1e+00\n",
      " 2:  4.9259e-01 -1.1093e+01  2e+01  2e-01  6e-01\n",
      " 3:  3.8473e-01  1.8207e+01  3e+01  2e-01  6e-01\n",
      " 4:  4.0417e-01  3.7172e+02  3e+01  2e-01  6e-01\n",
      " 5:  4.1607e-01  1.4821e+04  8e+01  2e-01  6e-01\n",
      " 6:  4.1936e-01  3.3646e+06  8e+02  2e-01  5e-01\n",
      " 7:  4.1957e-01  1.3718e+10  5e+04  2e-01  5e-01\n",
      " 8:  4.1958e-01  3.9896e+15  1e+08  2e-01  1e+00\n",
      " 9:  4.1958e-01  1.1521e+23  4e+13  2e-01  2e+07\n",
      "10:  4.1958e-01  3.3253e+32  1e+21  2e-01  7e+16\n",
      "11:  4.1958e-01  8.8231e+43  2e+31  2e-01  2e+28\n",
      "12:  4.1958e-01  4.0676e+56  1e+42  2e-01  8e+40\n",
      "13:  4.1958e-01  1.1964e+71  9e+55  2e-01  3e+55\n",
      "14:  4.1958e-01  1.5448e+85  1e+70  2e-01  2e+69\n",
      "15:  4.1958e-01  3.2644e+94  2e+79  2e-01  5e+78\n",
      "16:  4.1958e-01  3.3006e+94  2e+79  2e-01  6e+78\n",
      "17:  4.1958e-01  3.3006e+94  2e+79  2e-01  6e+78\n",
      "18:  4.1958e-01  3.3006e+94  2e+79  2e-01  6e+78\n",
      "19:  4.1958e-01  4.5723e+94  3e+79  2e-01  8e+78\n",
      "20:  4.1958e-01  4.5723e+94  3e+79  2e-01  1e+79\n",
      "21:  4.1958e-01  4.5723e+94  3e+79  2e-01  2e+79\n",
      "22:  4.1958e-01  4.5723e+94  3e+79  2e-01  2e+79\n",
      "23:  4.1958e-01  4.5723e+94  3e+79  2e-01  2e+79\n",
      "24:  4.1958e-01  4.1963e+96  3e+81  2e-01  8e+80\n",
      "25:  4.1958e-01  1.0288e+98  7e+82  2e-01  2e+82\n",
      "26:  4.1958e-01  1.0288e+98  7e+82  2e-01  3e+82\n",
      "27:  4.1958e-01  1.0288e+98  7e+82  2e-01  4e+82\n",
      "28:  4.1958e-01  5.6410e+98  4e+83  2e-01  1e+83\n",
      "29:  4.1958e-01  8.0807e+98  5e+83  2e-01  1e+83\n",
      "30:  4.1958e-01  8.0807e+98  5e+83  2e-01  3e+83\n",
      "31:  4.1958e-01  8.0807e+98  5e+83  2e-01  3e+83\n",
      "32:  4.1958e-01  8.0807e+98  5e+83  2e-01  2e+83\n",
      "33:  4.1958e-01  8.0807e+98  5e+83  2e-01  2e+83\n",
      "34:  4.1958e-01  1.1239e+101  7e+85  2e-01  2e+85\n",
      "35:  4.1958e-01  1.1239e+101  7e+85  2e-01  2e+85\n",
      "36:  4.1958e-01  1.1239e+101  7e+85  2e-01  3e+85\n",
      "37:  4.1958e-01  5.2573e+103  3e+88  2e-01  1e+88\n",
      "38:  4.1958e-01  9.1358e+103  6e+88  2e-01  2e+88\n",
      "39:  4.1958e-01  9.1358e+103  6e+88  2e-01  3e+88\n",
      "40:  4.1958e-01  3.3653e+104  2e+89  2e-01  8e+88\n",
      "41:  4.1958e-01  3.3653e+104  2e+89  2e-01  1e+89\n",
      "42:  4.1958e-01  1.2675e+105  8e+89  2e-01  3e+89\n",
      "43:  4.1958e-01  1.2675e+105  8e+89  2e-01  4e+89\n",
      "44:  4.1958e-01  1.5746e+106  1e+91  3e-01  3e+90\n",
      "45:  4.1958e-01  9.9792e+106  7e+91  7e-01  1e+91\n",
      "46:  4.1958e-01  9.9792e+106  7e+91  2e+00  2e+91\n",
      "47:  4.1958e-01  1.4444e+109  9e+93  5e+00  3e+93\n",
      "48:  4.1958e-01  5.7884e+109  4e+94  1e+01  8e+93\n",
      "49:  4.1958e-01  5.7884e+109  4e+94  5e+01  2e+94\n",
      "50:  4.1958e-01  5.7884e+109  4e+94  3e+02  2e+94\n",
      "51:  4.1958e-01  5.7884e+109  4e+94  9e+02  2e+94\n",
      "52:  4.1958e-01  5.7884e+109  4e+94  2e+03  2e+94\n",
      "53:  4.1958e-01  2.2130e+110  1e+95  8e+03  3e+94\n",
      "54:  4.1958e-01  2.2130e+110  1e+95  1e+04  6e+94\n",
      "55:  4.1958e-01  2.2130e+110  1e+95  8e+04  8e+94\n",
      "56:  4.1958e-01  2.2130e+110  1e+95  2e+05  6e+94\n",
      "57:  4.1958e-01  2.2130e+110  1e+95  3e+05  7e+94\n",
      "58:  4.1958e-01  3.2092e+113  2e+98  2e+06  7e+97\n",
      "59:  4.1958e-01  3.2092e+113  2e+98  1e+07  5e+97\n",
      "60:  4.1958e-01  3.2092e+113  2e+98  2e+07  4e+97\n",
      "61:  4.1958e-01  5.7233e+114  4e+99  3e+07  8e+98\n",
      "62:  4.1958e-01  5.7233e+114  4e+99  5e+08  2e+99\n",
      "63:  4.1958e-01  5.7233e+114  4e+99  1e+09  2e+99\n",
      "64:  4.1958e-01  5.7233e+114  4e+99  1e+09  2e+99\n",
      "65:  4.1958e-01  1.5583e+116  1e+101  6e+09 3e+100\n",
      "66:  4.1958e-01  1.5583e+116  1e+101  2e+10 5e+100\n",
      "67:  4.1958e-01  2.0091e+117  1e+102  2e+10 3e+101\n",
      "68:  4.1958e-01  1.3937e+118  9e+102  9e+10 3e+102\n",
      "69:  4.1958e-01  7.0233e+118  5e+103  2e+11 8e+102\n",
      "70:  4.1958e-01  7.0233e+118  5e+103  1e+12 2e+103\n",
      "71:  4.1958e-01  7.0233e+118  5e+103  2e+12 2e+103\n",
      "72:  4.1958e-01  7.0233e+118  5e+103  3e+12 2e+103\n",
      "73:  4.1958e-01  5.1859e+119  3e+104  5e+13 8e+103\n",
      "74:  4.1958e-01  9.2153e+120  6e+105  7e+13 1e+105\n",
      "75:  4.1958e-01  9.2153e+120  6e+105  1e+14 3e+105\n",
      "76:  4.1958e-01  9.2153e+120  6e+105  4e+14 4e+105\n",
      "77:  4.1958e-01  9.2153e+120  6e+105  3e+15 4e+105\n",
      "78:  4.1958e-01  9.2153e+120  6e+105  4e+15 4e+105\n",
      "79:  4.1958e-01  9.2153e+120  6e+105  1e+16 4e+105\n",
      "80:  4.1958e-01  6.3500e+123  4e+108  4e+16 2e+108\n",
      "81:  4.1958e-01  1.0091e+124  7e+108  1e+17 2e+108\n",
      "82:  4.1958e-01  1.0091e+124  7e+108  1e+18 3e+108\n",
      "83:  4.1958e-01  2.7943e+125  2e+110  2e+18 6e+109\n",
      "84:  4.1958e-01  1.7646e+128  1e+113  3e+18 2e+112\n",
      "85:  4.1958e-01  1.7646e+128  1e+113  1e+19 4e+112\n",
      "86:  4.1958e-01  1.7693e+128  1e+113  3e+19 5e+112\n",
      "87:  4.1958e-01  1.7693e+128  1e+113  9e+19 6e+112\n",
      "88:  4.1958e-01  2.0480e+128  1e+113  4e+20 4e+112\n",
      "89:  4.1958e-01  2.0480e+128  1e+113  7e+20 5e+112\n",
      "90:  4.1958e-01  2.0480e+128  1e+113  3e+21 5e+112\n",
      "91:  4.1958e-01  9.5045e+128  6e+113  4e+21 2e+113\n",
      "92:  4.1958e-01  1.2327e+129  8e+113  1e+22 2e+113\n",
      "93:  4.1958e-01  2.8721e+130  2e+115  3e+22 5e+114\n",
      "94:  4.1958e-01  2.8721e+130  2e+115  2e+23 6e+114\n",
      "95:  4.1958e-01  1.1889e+131  8e+115  1e+24 3e+115\n",
      "96:  4.1958e-01  1.1889e+131  8e+115  2e+24 3e+115\n",
      "97:  4.1958e-01  1.1889e+131  8e+115  5e+24 4e+115\n",
      "98:  4.1958e-01  7.5219e+131  5e+116  3e+25 2e+116\n",
      "99:  4.1958e-01  1.8925e+132  1e+117  7e+25 2e+116\n",
      "100:  4.1958e-01  1.8925e+132  1e+117  2e+26 4e+116\n",
      "Terminated (maximum number of iterations reached).\n",
      "CPU times: user 96 ms, sys: 0 ns, total: 96 ms\n",
      "Wall time: 52 ms\n"
     ]
    }
   ],
   "source": [
    "%%time\n",
    "sol = solvers.qp(P=P, q=q, G=G, h=h, A=A, b=b)"
   ]
  },
  {
   "cell_type": "code",
   "execution_count": 11,
   "metadata": {
    "collapsed": false
   },
   "outputs": [
    {
     "data": {
      "text/plain": [
       "{'dual infeasibility': 3.819122362650698e+116,\n",
       " 'dual objective': 1.8924899811592277e+132,\n",
       " 'dual slack': 0.0033284692392650667,\n",
       " 'gap': 1.2407332177524124e+117,\n",
       " 'iterations': 100,\n",
       " 'primal infeasibility': 1.8486928807394918e+26,\n",
       " 'primal objective': 0.41957505905153225,\n",
       " 'primal slack': 1.4508085760773603e-21,\n",
       " 'relative gap': 6.556088698511431e-16,\n",
       " 's': <80x1 matrix, tc='d'>,\n",
       " 'status': 'unknown',\n",
       " 'x': <20x1 matrix, tc='d'>,\n",
       " 'y': <1x1 matrix, tc='d'>,\n",
       " 'z': <80x1 matrix, tc='d'>}"
      ]
     },
     "execution_count": 11,
     "metadata": {},
     "output_type": "execute_result"
    }
   ],
   "source": [
    "sol"
   ]
  },
  {
   "cell_type": "code",
   "execution_count": null,
   "metadata": {
    "collapsed": true
   },
   "outputs": [],
   "source": []
  }
 ],
 "metadata": {
  "anaconda-cloud": {},
  "kernelspec": {
   "display_name": "Python [conda root]",
   "language": "python",
   "name": "conda-root-py"
  },
  "language_info": {
   "codemirror_mode": {
    "name": "ipython",
    "version": 3
   },
   "file_extension": ".py",
   "mimetype": "text/x-python",
   "name": "python",
   "nbconvert_exporter": "python",
   "pygments_lexer": "ipython3",
   "version": "3.5.2"
  }
 },
 "nbformat": 4,
 "nbformat_minor": 1
}
