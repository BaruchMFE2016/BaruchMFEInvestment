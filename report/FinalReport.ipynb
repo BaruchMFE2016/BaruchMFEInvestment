{
 "cells": [
  {
   "cell_type": "markdown",
   "metadata": {},
   "source": [
    "## Capsonte Report"
   ]
  },
  {
   "cell_type": "markdown",
   "metadata": {},
   "source": [
    "### Introduction"
   ]
  },
  {
   "cell_type": "markdown",
   "metadata": {},
   "source": [
    "### Review"
   ]
  },
  {
   "cell_type": "markdown",
   "metadata": {},
   "source": [
    "### Momentum revisted\n",
    "It is well known to the world that stocks that outperformed in the past has a trend to outperform in the future, and stocks that underperformed in the past has a trend to underperform. This property of the market is described as momentum by the industry, and it is usually defined by the following formula\n",
    "$$\n",
    "mmt_t = \\sum_{i=a}^b r_{t-i}\n",
    "$$\n",
    "where $\\left\\{ r_t \\right\\}_{t=-\\infty}^\\infty$ is the time series of period log returns of a stock. $a$ and $b$ are 2 parameters that describes the head and tail of the rolling window when we calculates momentum. This quantity is used as a factor in the general factor model.\n",
    "\n",
    "However after being exposed to the market with this many years, this factor is becoming much noisier than it used to be. Here we would like to examine the performance of the traditional momentum factor, and we brought up several revised definitions of the momentum. We kept the original meaning of momentum, which is past return in a rolling window, but revised in a way that it captures several other features in the market that is working well with momentum."
   ]
  },
  {
   "cell_type": "markdown",
   "metadata": {},
   "source": [
    "#### What window should we use?"
   ]
  },
  {
   "cell_type": "markdown",
   "metadata": {},
   "source": [
    "#### Momentum adjusted by volatility\n",
    "It is observed that high momentum stocks are also very volatile in their returns, and volatility, is known to be a factor that has negative alpha. In other words, one of the drawbacks of the original momentum might be its high correlation with volatility.  \n",
    "\n",
    "We define standard momentum as the following\n",
    "$$\n",
    "smmt_t = \\frac{\\sum_{i=a}^b r_{t-i}}{\\sqrt{\\sum_{i=a}^b r_{t-i}^2}}\n",
    "$$\n",
    "\n",
    "The definition is approximately similar to the naive Sharpe ratio of a certain stock in the selected period, and by standardizing by volatility this new momentum is expected to have low correlation with volatility."
   ]
  },
  {
   "cell_type": "markdown",
   "metadata": {},
   "source": [
    "#### Exponentially weighted momentum\n",
    "When calculating momentum from a fixed size rolling window, one should always ask the question that should him/her put equal weight to the near past and far past. Technically, that is to say, if two stocks have the same return series but the sequence of the return series is different, are they expected to perform similarly in the future? Another feature that the original momentum does not capture is the sequential pattern of the returns, and it is natural for human investors to focus more on the near past than the longer history. Therefore we defined exponentially weighted momentum as follows\n",
    "$$\n",
    "ewmmt_t(\\lambda) = \\sum_{i=a}^b \\lambda^{i-a} r_{t-i}\n",
    "$$\n",
    "where $\\lambda$ is the persistence parameter between $0$ and $1$.  \n",
    "The property of an exponentially weighted sequence is that it gradually forgets what happened in the past by mutiplying a persistence parameter each time it rolls forward. We also use another number called half-life to describe the $\\lambda$ parameter, where we have\n",
    "\\begin{align}\n",
    "\\lambda^{h} &= \\frac 1 2 \\\\\n",
    "\\lambda &= (\\frac{1}{2})^{1/h}\n",
    "\\end{align}"
   ]
  },
  {
   "cell_type": "code",
   "execution_count": null,
   "metadata": {
    "collapsed": true
   },
   "outputs": [],
   "source": []
  }
 ],
 "metadata": {
  "anaconda-cloud": {},
  "kernelspec": {
   "display_name": "Python [conda root]",
   "language": "python",
   "name": "conda-root-py"
  },
  "language_info": {
   "codemirror_mode": {
    "name": "ipython",
    "version": 3
   },
   "file_extension": ".py",
   "mimetype": "text/x-python",
   "name": "python",
   "nbconvert_exporter": "python",
   "pygments_lexer": "ipython3",
   "version": "3.5.2"
  }
 },
 "nbformat": 4,
 "nbformat_minor": 1
}
